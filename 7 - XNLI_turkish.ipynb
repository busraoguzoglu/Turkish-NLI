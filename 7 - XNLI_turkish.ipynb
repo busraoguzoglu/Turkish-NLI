{
  "nbformat": 4,
  "nbformat_minor": 0,
  "metadata": {
    "colab": {
      "name": "XNLI-turkish.ipynb",
      "provenance": []
    },
    "kernelspec": {
      "name": "python3",
      "display_name": "Python 3"
    },
    "language_info": {
      "name": "python"
    }
  },
  "cells": [
    {
      "cell_type": "code",
      "metadata": {
        "id": "rN4MX_O-3TJc"
      },
      "source": [
        "from fastai import *\n",
        "from fastai.text import * \n",
        "def random_seed(seed_value, use_cuda):\n",
        "    np.random.seed(seed_value) # cpu vars\n",
        "    torch.manual_seed(seed_value) # cpu  vars\n",
        "    random.seed(seed_value) # Python\n",
        "    if use_cuda: \n",
        "        torch.cuda.manual_seed(seed_value)\n",
        "        torch.cuda.manual_seed_all(seed_value) # gpu vars\n",
        "        torch.backends.cudnn.deterministic = True  #needed\n",
        "        torch.backends.cudnn.benchmark = False\n",
        "        \n",
        "random_seed(42, True)"
      ],
      "execution_count": null,
      "outputs": []
    },
    {
      "cell_type": "code",
      "metadata": {
        "colab": {
          "base_uri": "https://localhost:8080/"
        },
        "id": "TZH-tZxA3aea",
        "outputId": "6bc2f00f-09b1-4314-8ab6-4af7edec3022"
      },
      "source": [
        "# bring en files (all then filter)\n",
        "!wget https://raw.githubusercontent.com/abedkhooli/ds2/master/ulmfit2/prepare_xnli.sh "
      ],
      "execution_count": null,
      "outputs": [
        {
          "output_type": "stream",
          "text": [
            "--2021-06-13 10:15:07--  https://raw.githubusercontent.com/abedkhooli/ds2/master/ulmfit2/prepare_xnli.sh\n",
            "Resolving raw.githubusercontent.com (raw.githubusercontent.com)... 185.199.108.133, 185.199.109.133, 185.199.110.133, ...\n",
            "Connecting to raw.githubusercontent.com (raw.githubusercontent.com)|185.199.108.133|:443... connected.\n",
            "HTTP request sent, awaiting response... 200 OK\n",
            "Length: 772 [text/plain]\n",
            "Saving to: ‘prepare_xnli.sh’\n",
            "\n",
            "\rprepare_xnli.sh       0%[                    ]       0  --.-KB/s               \rprepare_xnli.sh     100%[===================>]     772  --.-KB/s    in 0s      \n",
            "\n",
            "2021-06-13 10:15:07 (55.0 MB/s) - ‘prepare_xnli.sh’ saved [772/772]\n",
            "\n"
          ],
          "name": "stdout"
        }
      ]
    },
    {
      "cell_type": "code",
      "metadata": {
        "colab": {
          "base_uri": "https://localhost:8080/"
        },
        "id": "2zyQ_7gJ3jY-",
        "outputId": "65223f4c-d630-4188-ca7a-91b71bc6c1bf"
      },
      "source": [
        "filename_dev = 'xnli.dev.tsv'\n",
        "filename_test = 'xnli.test.tsv'\n",
        "df_dev = pd.read_csv(filename_dev, delimiter='\\t', quoting=csv.QUOTE_NONE)\n",
        "df_test = pd.read_csv(filename_test, delimiter='\\t', quoting=csv.QUOTE_NONE)\n",
        "len(df_dev), len(df_test)"
      ],
      "execution_count": null,
      "outputs": [
        {
          "output_type": "execute_result",
          "data": {
            "text/plain": [
              "(37350, 75150)"
            ]
          },
          "metadata": {
            "tags": []
          },
          "execution_count": 3
        }
      ]
    },
    {
      "cell_type": "code",
      "metadata": {
        "colab": {
          "base_uri": "https://localhost:8080/"
        },
        "id": "jaCHzmGM4p5G",
        "outputId": "b205636e-de8f-4499-a719-6aaade829644"
      },
      "source": [
        "df_dev_tr= df_dev[df_dev['language']=='tr']\n",
        "df_test_tr= df_test[df_test['language']=='tr']\n",
        "len(df_dev_tr), len(df_test_tr)\n",
        "# Each language has 2490 dev samples and 5010 test samples (from readme)."
      ],
      "execution_count": null,
      "outputs": [
        {
          "output_type": "execute_result",
          "data": {
            "text/plain": [
              "(2490, 5010)"
            ]
          },
          "metadata": {
            "tags": []
          },
          "execution_count": 5
        }
      ]
    },
    {
      "cell_type": "code",
      "metadata": {
        "colab": {
          "base_uri": "https://localhost:8080/",
          "height": 289
        },
        "id": "QMk8wXgq4xVk",
        "outputId": "b1cd7c37-e87a-4cc4-c7c9-d6cc278e46a6"
      },
      "source": [
        "df_dev_tr = df_dev_tr[['gold_label','sentence1_tokenized', 'sentence2_tokenized']]\n",
        "df_test_tr = df_test_tr[['gold_label','sentence1_tokenized', 'sentence2_tokenized']]\n",
        "df_dev_tr['is_valid'] = False\n",
        "df_test_tr['is_valid'] = True\n",
        "df_test_tr.head()"
      ],
      "execution_count": null,
      "outputs": [
        {
          "output_type": "execute_result",
          "data": {
            "text/html": [
              "<div>\n",
              "<style scoped>\n",
              "    .dataframe tbody tr th:only-of-type {\n",
              "        vertical-align: middle;\n",
              "    }\n",
              "\n",
              "    .dataframe tbody tr th {\n",
              "        vertical-align: top;\n",
              "    }\n",
              "\n",
              "    .dataframe thead th {\n",
              "        text-align: right;\n",
              "    }\n",
              "</style>\n",
              "<table border=\"1\" class=\"dataframe\">\n",
              "  <thead>\n",
              "    <tr style=\"text-align: right;\">\n",
              "      <th></th>\n",
              "      <th>gold_label</th>\n",
              "      <th>sentence1_tokenized</th>\n",
              "      <th>sentence2_tokenized</th>\n",
              "      <th>is_valid</th>\n",
              "    </tr>\n",
              "  </thead>\n",
              "  <tbody>\n",
              "    <tr>\n",
              "      <th>55110</th>\n",
              "      <td>contradiction</td>\n",
              "      <td>Pekala , bunu hiç düşünmemiştim ancak kafam ço...</td>\n",
              "      <td>Onunla bir daha konuşmadım .</td>\n",
              "      <td>True</td>\n",
              "    </tr>\n",
              "    <tr>\n",
              "      <th>55111</th>\n",
              "      <td>entailment</td>\n",
              "      <td>Pekala , bunu hiç düşünmemiştim ancak kafam ço...</td>\n",
              "      <td>O kadar çok üzgündüm ki onunla tekrar konuşmay...</td>\n",
              "      <td>True</td>\n",
              "    </tr>\n",
              "    <tr>\n",
              "      <th>55112</th>\n",
              "      <td>neutral</td>\n",
              "      <td>Pekala , bunu hiç düşünmemiştim ancak kafam ço...</td>\n",
              "      <td>Harika bir konuşma yaptık .</td>\n",
              "      <td>True</td>\n",
              "    </tr>\n",
              "    <tr>\n",
              "      <th>55113</th>\n",
              "      <td>neutral</td>\n",
              "      <td>Ve bunun bir ayrıcalık olduğunu sanıyordum , v...</td>\n",
              "      <td>O gün tarladaki tek kişi olmadığımın farkında ...</td>\n",
              "      <td>True</td>\n",
              "    </tr>\n",
              "    <tr>\n",
              "      <th>55114</th>\n",
              "      <td>entailment</td>\n",
              "      <td>Ve bunun bir ayrıcalık olduğunu sanıyordum , v...</td>\n",
              "      <td>AFFC Hava Kuvvetleri Kariyer alanında o numara...</td>\n",
              "      <td>True</td>\n",
              "    </tr>\n",
              "  </tbody>\n",
              "</table>\n",
              "</div>"
            ],
            "text/plain": [
              "          gold_label  ... is_valid\n",
              "55110  contradiction  ...     True\n",
              "55111     entailment  ...     True\n",
              "55112        neutral  ...     True\n",
              "55113        neutral  ...     True\n",
              "55114     entailment  ...     True\n",
              "\n",
              "[5 rows x 4 columns]"
            ]
          },
          "metadata": {
            "tags": []
          },
          "execution_count": 6
        }
      ]
    },
    {
      "cell_type": "code",
      "metadata": {
        "colab": {
          "base_uri": "https://localhost:8080/"
        },
        "id": "X4I3CZuR49Er",
        "outputId": "e1d07a1c-dd8a-48bb-a126-4ff4f2ec23fd"
      },
      "source": [
        "df_all = pd.concat([df_dev_tr,df_test_tr])\n",
        "df_all['gold_label'].value_counts()"
      ],
      "execution_count": null,
      "outputs": [
        {
          "output_type": "execute_result",
          "data": {
            "text/plain": [
              "neutral          2500\n",
              "entailment       2500\n",
              "contradiction    2500\n",
              "Name: gold_label, dtype: int64"
            ]
          },
          "metadata": {
            "tags": []
          },
          "execution_count": 8
        }
      ]
    },
    {
      "cell_type": "code",
      "metadata": {
        "id": "1RFrJTV85Djn"
      },
      "source": [
        "# create a data folder and copy train and test data into it \n",
        "Path('data/xnli_tr/').mkdir(parents=True, exist_ok=True)\n",
        "df_all.to_csv('data/xnli_tr/xnli_text.csv', index=False)"
      ],
      "execution_count": null,
      "outputs": []
    },
    {
      "cell_type": "code",
      "metadata": {
        "id": "7koFddZ75I5J"
      },
      "source": [
        "processor = [TokenizeProcessor(mark_fields=True), NumericalizeProcessor(max_vocab=60000)]"
      ],
      "execution_count": null,
      "outputs": []
    },
    {
      "cell_type": "code",
      "metadata": {
        "colab": {
          "base_uri": "https://localhost:8080/"
        },
        "id": "kl7kt_GJ5Npy",
        "outputId": "0e1e6494-7b01-422c-819d-1601db6b623f"
      },
      "source": [
        "path = Path('data/xnli_tr/')\n",
        "path.ls()"
      ],
      "execution_count": null,
      "outputs": [
        {
          "output_type": "execute_result",
          "data": {
            "text/plain": [
              "[PosixPath('data/xnli_tr/xnli_text.csv')]"
            ]
          },
          "metadata": {
            "tags": []
          },
          "execution_count": 11
        }
      ]
    },
    {
      "cell_type": "code",
      "metadata": {
        "colab": {
          "base_uri": "https://localhost:8080/",
          "height": 105
        },
        "id": "zSbwglri5RaB",
        "outputId": "d2b7eea0-be12-4d96-9dc0-5308f9c9c1c5"
      },
      "source": [
        "data_lm = (TextList.from_csv(path, 'xnli_text.csv', cols=['sentence1_tokenized', 'sentence2_tokenized'],processor = processor)\n",
        "                   .random_split_by_pct()\n",
        "                   .label_for_lm()\n",
        "                   .databunch())\n",
        "data_lm.save()"
      ],
      "execution_count": null,
      "outputs": [
        {
          "output_type": "stream",
          "text": [
            "/usr/local/lib/python3.7/dist-packages/fastai/data_block.py:217: UserWarning: `random_split_by_pct` is deprecated, please use `split_by_rand_pct`.\n",
            "  warn(\"`random_split_by_pct` is deprecated, please use `split_by_rand_pct`.\")\n"
          ],
          "name": "stderr"
        },
        {
          "output_type": "display_data",
          "data": {
            "text/html": [
              ""
            ],
            "text/plain": [
              "<IPython.core.display.HTML object>"
            ]
          },
          "metadata": {
            "tags": []
          }
        },
        {
          "output_type": "stream",
          "text": [
            "/usr/local/lib/python3.7/dist-packages/fastai/core.py:302: VisibleDeprecationWarning: Creating an ndarray from ragged nested sequences (which is a list-or-tuple of lists-or-tuples-or ndarrays with different lengths or shapes) is deprecated. If you meant to do this, you must specify 'dtype=object' when creating the ndarray\n",
            "  return np.array(a, dtype=dtype, **kwargs)\n"
          ],
          "name": "stderr"
        },
        {
          "output_type": "display_data",
          "data": {
            "text/html": [
              ""
            ],
            "text/plain": [
              "<IPython.core.display.HTML object>"
            ]
          },
          "metadata": {
            "tags": []
          }
        }
      ]
    },
    {
      "cell_type": "code",
      "metadata": {
        "colab": {
          "base_uri": "https://localhost:8080/",
          "height": 818
        },
        "id": "DWWJNDjn5U5c",
        "outputId": "8c3e2fc9-7309-4917-d848-b0411340e6ad"
      },
      "source": [
        "data_lm.show_batch(10)"
      ],
      "execution_count": null,
      "outputs": [
        {
          "output_type": "display_data",
          "data": {
            "text/html": [
              "<table border=\"1\" class=\"dataframe\">\n",
              "  <thead>\n",
              "    <tr style=\"text-align: right;\">\n",
              "      <th>idx</th>\n",
              "      <th>text</th>\n",
              "    </tr>\n",
              "  </thead>\n",
              "  <tbody>\n",
              "    <tr>\n",
              "      <td>0</td>\n",
              "      <td>xxunk yeri bulmaya çalışırken xxunk . xxbos xxfld 1 xxmaj ne için gittiğimi falan bilmiyordum , xxmaj washington ' da belirtilen bir yere rapor vermem gerekiyordu . xxfld 2 xxmaj washington ' a xxunk ne yapmam gerektiğini tam olarak biliyordum . xxbos xxfld 1 xxmaj ne için gittiğimi falan bilmiyordum , xxmaj washington ' da belirtilen bir yere rapor vermem gerekiyordu . xxfld 2 xxmaj ne xxunk çok emin değildim</td>\n",
              "    </tr>\n",
              "    <tr>\n",
              "      <td>1</td>\n",
              "      <td>sundurmanın önünden aşağı doğru yürüdü ve oraya doğru yürüyordu ve o da orada durdu . xxfld 2 xxmaj büyükanne xxunk xxunk . xxbos xxfld 1 xxmaj büyükanne kalktı ve sundurmanın önünden aşağı doğru yürüdü ve oraya doğru yürüyordu ve o da orada durdu . xxfld 2 xxmaj büyükanne xxunk 100 adım yürüdü . xxbos xxfld 1 xxmaj büyükanne kalktı ve sundurmanın önünden aşağı doğru yürüdü ve oraya doğru yürüyordu ve</td>\n",
              "    </tr>\n",
              "    <tr>\n",
              "      <td>2</td>\n",
              "      <td>şeyin etek ve etek ve bluz veya takım elbise veya elbise olduğunu biliyorsunuz , bu yüzden evde çalışmama rağmen güzel çünkü pantolon giyebiliyorum xxfld 2 xxmaj evde çalışırken hala elbise xxunk çünkü daha süslü hissediyorum . xxbos xxfld 1 evet , bilmem gereken bir yere sahip olmakla ilgili bir şey var xxfld 2 xxmaj yaşayacak bir yere sahip olma hayali gerçek oldu . xxbos xxfld 1 evet , bilmem gereken</td>\n",
              "    </tr>\n",
              "    <tr>\n",
              "      <td>3</td>\n",
              "      <td>anlatacak ne yapıyoruz ? xxbos xxfld 1 xxmaj tabii ki onlar , onlar için kesinlikle xxunk bildiğiniz yerlerde xxunk , ama geniş geniş xxunk geleceğini xxunk . xxfld 2 xxmaj bazı insanlar yaşlı akrabalarını önemsemiyor çünkü xxunk çok sayıda merdiven var . xxbos xxfld 1 xxmaj tabii ki onlar , onlar için kesinlikle xxunk bildiğiniz yerlerde xxunk , ama geniş geniş xxunk geleceğini xxunk . xxfld 2 xxmaj bazı insanlar</td>\n",
              "    </tr>\n",
              "    <tr>\n",
              "      <td>4</td>\n",
              "      <td>ulaşır ve tablonun sınırlarına kadar uzanır . xxfld 2 xxmaj kum her zaman düz ve xxunk . xxbos xxfld 1 xxmaj kum yığılırken , sonuç olarak kum için dinlenme açısına ulaşır ve tablonun sınırlarına kadar uzanır . xxfld 2 xxmaj kum bir buldozer yardımıyla xxunk . xxbos xxfld 1 xxmaj biyosfer , sürekli xxunk bitişik olana doğru xxunk , hatta , az ya da çok ısrarla patladı . xxfld 2</td>\n",
              "    </tr>\n",
              "    <tr>\n",
              "      <td>5</td>\n",
              "      <td>kondisyonun doruklarına doğru çekmeye zorlayabilir . xxfld 2 xxmaj daha yüksek fitness seviyelerinde , xxunk xxunk hayatta kalma olasılığı daha yüksektir . xxbos xxfld 1 xxmaj fitness manzarasında , görüntü , mutasyon , rekombinasyon ve seçim , gelişen nüfusları yüksek kondisyonun doruklarına doğru çekmeye zorlayabilir . xxfld 2 xxmaj xxunk nüfusları daha yüksek xxunk xxunk çekmek için birçok etmen aynı anda xxunk . xxbos xxfld 1 xxmaj fitness manzarasında ,</td>\n",
              "    </tr>\n",
              "    <tr>\n",
              "      <td>6</td>\n",
              "      <td>xxunk . xxfld 2 xxmaj onların xxunk xxunk xxunk geldi . xxbos xxfld 1 xxmaj hangisi daha iyi bir yol ? talep etti . xxfld 2 xxmaj en iyi yolu xxunk bildiği için herhangi bir soru sormadı . xxbos xxfld 1 xxmaj hangisi daha iyi bir yol ? talep etti . xxfld 2 xxmaj daha iyi bir yol olup olmadığını bilmek istiyordu . xxbos xxfld 1 xxmaj hangisi daha iyi</td>\n",
              "    </tr>\n",
              "    <tr>\n",
              "      <td>7</td>\n",
              "      <td>gelmesi ile sürekli olarak artan sırasında belindeki parmağını erkeklere doğru aşağılayıcı bir biçimde salladı . xxfld 2 xxmaj herkes üst xxunk xxunk yol xxunk xxunk xxunk xxunk . xxbos xxfld 1 xxmaj bilakis bu onun heyecanını artırmıştı . xxfld 2 o heyecanını azalttı . xxbos xxfld 1 xxmaj bilakis bu onun heyecanını artırmıştı . xxfld 2 xxmaj bu , onu hiç olmadığı kadar heyecanlı biri yaptı . xxbos xxfld 1</td>\n",
              "    </tr>\n",
              "    <tr>\n",
              "      <td>8</td>\n",
              "      <td>dır . xxfld 2 xxmaj brahma xxmaj hindu xxunk bir parçasıdır . xxbos xxfld 1 xxmaj xxunk xxunk aldı , ancak silahlı mücadele xxunk devam etti ve ondan sonra da uzun süre devam eden acı . xxfld 2 xxmaj savaş sadece bir günde sona xxunk . xxbos xxfld 1 xxmaj xxunk xxmaj xxunk ' ın altındaki birkaç yüz xxunk xxunk , xxmaj atinalılar ' ın xxmaj xxunk xxunk tahliye xxunk</td>\n",
              "    </tr>\n",
              "    <tr>\n",
              "      <td>9</td>\n",
              "      <td>xxfld 1 o gece en büyük kalabalığı çekmek amacıyla özel kuponlar gün boyu plajlarda yoğun şekilde dağıtılmakta . xxfld 2 xxmaj uzun vadeli müşteri umuduyla xxunk kuponlar xxunk . xxbos xxfld 1 o gece en büyük kalabalığı çekmek amacıyla özel kuponlar gün boyu plajlarda yoğun şekilde dağıtılmakta . xxfld 2 xxmaj kuponlar xxunk xxunk çekmek umuduyla sahilde xxunk . xxbos xxfld 1 . xxmaj passeig de xxmaj gracia ' ya</td>\n",
              "    </tr>\n",
              "  </tbody>\n",
              "</table>"
            ],
            "text/plain": [
              "<IPython.core.display.HTML object>"
            ]
          },
          "metadata": {
            "tags": []
          }
        }
      ]
    },
    {
      "cell_type": "code",
      "metadata": {
        "colab": {
          "base_uri": "https://localhost:8080/",
          "height": 453
        },
        "id": "tj2P9F1152OV",
        "outputId": "df3711bb-f418-4dcc-8185-1896cac30f8c"
      },
      "source": [
        "learn = language_model_learner(data_lm, AWD_LSTM, drop_mult=0.1)\n",
        "#learn = language_model_learner(data_lm, pretrained_model=AWD_LSTM, drop_mult=0.1)\n",
        "learn.lr_find()\n",
        "learn.recorder.plot(skip_end=12)"
      ],
      "execution_count": null,
      "outputs": [
        {
          "output_type": "stream",
          "text": [
            "Downloading https://s3.amazonaws.com/fast-ai-modelzoo/wt103-fwd.tgz\n"
          ],
          "name": "stdout"
        },
        {
          "output_type": "display_data",
          "data": {
            "text/html": [
              ""
            ],
            "text/plain": [
              "<IPython.core.display.HTML object>"
            ]
          },
          "metadata": {
            "tags": []
          }
        },
        {
          "output_type": "display_data",
          "data": {
            "text/html": [
              "\n",
              "    <div>\n",
              "        <style>\n",
              "            /* Turns off some styling */\n",
              "            progress {\n",
              "                /* gets rid of default border in Firefox and Opera. */\n",
              "                border: none;\n",
              "                /* Needs to be in here for Safari polyfill so background images work as expected. */\n",
              "                background-size: auto;\n",
              "            }\n",
              "            .progress-bar-interrupted, .progress-bar-interrupted::-webkit-progress-bar {\n",
              "                background: #F44336;\n",
              "            }\n",
              "        </style>\n",
              "      <progress value='2' class='' max='3' style='width:300px; height:20px; vertical-align: middle;'></progress>\n",
              "      66.67% [2/3 13:37<06:48]\n",
              "    </div>\n",
              "    \n",
              "<table border=\"1\" class=\"dataframe\">\n",
              "  <thead>\n",
              "    <tr style=\"text-align: left;\">\n",
              "      <th>epoch</th>\n",
              "      <th>train_loss</th>\n",
              "      <th>valid_loss</th>\n",
              "      <th>accuracy</th>\n",
              "      <th>time</th>\n",
              "    </tr>\n",
              "  </thead>\n",
              "  <tbody>\n",
              "    <tr>\n",
              "      <td>0</td>\n",
              "      <td>8.918973</td>\n",
              "      <td>#na#</td>\n",
              "      <td>06:49</td>\n",
              "    </tr>\n",
              "    <tr>\n",
              "      <td>1</td>\n",
              "      <td>7.275417</td>\n",
              "      <td>#na#</td>\n",
              "      <td>06:48</td>\n",
              "    </tr>\n",
              "  </tbody>\n",
              "</table><p>\n",
              "\n",
              "    <div>\n",
              "        <style>\n",
              "            /* Turns off some styling */\n",
              "            progress {\n",
              "                /* gets rid of default border in Firefox and Opera. */\n",
              "                border: none;\n",
              "                /* Needs to be in here for Safari polyfill so background images work as expected. */\n",
              "                background-size: auto;\n",
              "            }\n",
              "            .progress-bar-interrupted, .progress-bar-interrupted::-webkit-progress-bar {\n",
              "                background: #F44336;\n",
              "            }\n",
              "        </style>\n",
              "      <progress value='7' class='' max='46' style='width:300px; height:20px; vertical-align: middle;'></progress>\n",
              "      15.22% [7/46 03:20<18:38 9.2176]\n",
              "    </div>\n",
              "    "
            ],
            "text/plain": [
              "<IPython.core.display.HTML object>"
            ]
          },
          "metadata": {
            "tags": []
          }
        },
        {
          "output_type": "stream",
          "text": [
            "LR Finder is complete, type {learner_name}.recorder.plot() to see the graph.\n"
          ],
          "name": "stdout"
        },
        {
          "output_type": "display_data",
          "data": {
            "image/png": "[encoded data removed]",
            "text/plain": [
              "<Figure size 432x288 with 1 Axes>"
            ]
          },
          "metadata": {
            "tags": [],
            "needs_background": "light"
          }
        }
      ]
    },
    {
      "cell_type": "code",
      "metadata": {
        "colab": {
          "base_uri": "https://localhost:8080/",
          "height": 80
        },
        "id": "Dz0LuSX756z9",
        "outputId": "804fdd98-e124-433f-9965-4eb338be34cc"
      },
      "source": [
        "learn.fit_one_cycle(1, 4e-2) # was 10 "
      ],
      "execution_count": null,
      "outputs": [
        {
          "output_type": "display_data",
          "data": {
            "text/html": [
              "<table border=\"1\" class=\"dataframe\">\n",
              "  <thead>\n",
              "    <tr style=\"text-align: left;\">\n",
              "      <th>epoch</th>\n",
              "      <th>train_loss</th>\n",
              "      <th>valid_loss</th>\n",
              "      <th>accuracy</th>\n",
              "      <th>time</th>\n",
              "    </tr>\n",
              "  </thead>\n",
              "  <tbody>\n",
              "    <tr>\n",
              "      <td>0</td>\n",
              "      <td>5.336092</td>\n",
              "      <td>3.936434</td>\n",
              "      <td>0.406771</td>\n",
              "      <td>07:41</td>\n",
              "    </tr>\n",
              "  </tbody>\n",
              "</table>"
            ],
            "text/plain": [
              "<IPython.core.display.HTML object>"
            ]
          },
          "metadata": {
            "tags": []
          }
        }
      ]
    },
    {
      "cell_type": "code",
      "metadata": {
        "colab": {
          "base_uri": "https://localhost:8080/",
          "height": 279
        },
        "id": "eFvmDJ-I7XMo",
        "outputId": "335866b6-7952-4932-ff1e-f1c9eba2c1ef"
      },
      "source": [
        "learn.recorder.plot_losses()"
      ],
      "execution_count": null,
      "outputs": [
        {
          "output_type": "display_data",
          "data": {
            "image/png": "[encoded data removed]",
            "text/plain": [
              "<Figure size 432x288 with 1 Axes>"
            ]
          },
          "metadata": {
            "tags": [],
            "needs_background": "light"
          }
        }
      ]
    },
    {
      "cell_type": "code",
      "metadata": {
        "colab": {
          "base_uri": "https://localhost:8080/",
          "height": 289
        },
        "id": "PS9rLTa1Rbh-",
        "outputId": "30b72294-8af9-415f-86f6-879dfea26011"
      },
      "source": [
        "# first amount of words (here 10), the next 10 target words (actual) and the ones predicted.\n",
        "learn.show_results(max_len = 10)"
      ],
      "execution_count": null,
      "outputs": [
        {
          "output_type": "display_data",
          "data": {
            "text/html": [
              "<table border=\"1\" class=\"dataframe\">\n",
              "  <thead>\n",
              "    <tr style=\"text-align: right;\">\n",
              "      <th>text</th>\n",
              "      <th>target</th>\n",
              "      <th>pred</th>\n",
              "    </tr>\n",
              "  </thead>\n",
              "  <tbody>\n",
              "    <tr>\n",
              "      <td>xxbos xxfld 1 xxmaj onunla ilgili xxunk , bütün gece</td>\n",
              "      <td>çok huzurlu olan , xxunk erkeklerin çılgınca aktif xxunk vardı</td>\n",
              "      <td>xxunk xxunk xxunk , xxunk xxunk xxunk xxunk bir xxunk</td>\n",
              "    </tr>\n",
              "    <tr>\n",
              "      <td>xxunk , sosyal ve politik adaletin xxunk inşa edilmiştir .</td>\n",
              "      <td>xxbos xxfld 1 yaklaşık yüzde xxunk sülfür bitümlü kömür xxunk</td>\n",
              "      <td>xxbos xxfld 1 xxmaj xxunk on ve . . .</td>\n",
              "    </tr>\n",
              "    <tr>\n",
              "      <td>tüm bilgiyi xxunk için hayal kırıklığı yaşadığımı ona açıklamaya çalıştım</td>\n",
              "      <td>. xxfld 2 xxmaj ona başka bir şey duymak xxunk</td>\n",
              "      <td>. xxfld 2 xxmaj xxunk xxunk xxfld xxunk xxunk .</td>\n",
              "    </tr>\n",
              "    <tr>\n",
              "      <td>yok bu yüzden söylemek pek kolay değil xxfld 2 xxmaj</td>\n",
              "      <td>yedi çocuğum var yani xxunk xxunk biliyorum ! xxbos xxfld</td>\n",
              "      <td>xxunk xxfld xxfld . xxunk xxunk . . xxbos xxfld</td>\n",
              "    </tr>\n",
              "    <tr>\n",
              "      <td>1 xxmaj sant xxmaj xxunk ' nun xxmaj romanesk xxunk</td>\n",
              "      <td>xxunk , xxmaj barselona ' nın xxunk ve xxmaj gotik</td>\n",
              "      <td>. . xxunk xxunk ' nın xxunk xxunk xxunk xxunk</td>\n",
              "    </tr>\n",
              "  </tbody>\n",
              "</table>"
            ],
            "text/plain": [
              "<IPython.core.display.HTML object>"
            ]
          },
          "metadata": {
            "tags": []
          }
        }
      ]
    },
    {
      "cell_type": "code",
      "metadata": {
        "id": "2EEBw8mORlPJ"
      },
      "source": [
        "learn.save('mini_train_lm')\n",
        "learn.save_encoder('mini_train_encoder')"
      ],
      "execution_count": null,
      "outputs": []
    },
    {
      "cell_type": "code",
      "metadata": {
        "colab": {
          "base_uri": "https://localhost:8080/",
          "height": 122
        },
        "id": "iSU0H6wPRnSk",
        "outputId": "89cc5344-fb68-48a6-d37d-10b59237bc5b"
      },
      "source": [
        "data_clas = (TextList.from_csv(path, 'xnli_text.csv', cols=['sentence1_tokenized', 'sentence2_tokenized'],processor = processor, vocab=data_lm.vocab)\n",
        "                   .split_from_df(col='is_valid')\n",
        "                   .label_from_df(cols='gold_label')\n",
        "                   .databunch(bs=42))"
      ],
      "execution_count": null,
      "outputs": [
        {
          "output_type": "display_data",
          "data": {
            "text/html": [
              ""
            ],
            "text/plain": [
              "<IPython.core.display.HTML object>"
            ]
          },
          "metadata": {
            "tags": []
          }
        },
        {
          "output_type": "stream",
          "text": [
            "/usr/local/lib/python3.7/dist-packages/fastai/core.py:302: VisibleDeprecationWarning: Creating an ndarray from ragged nested sequences (which is a list-or-tuple of lists-or-tuples-or ndarrays with different lengths or shapes) is deprecated. If you meant to do this, you must specify 'dtype=object' when creating the ndarray\n",
            "  return np.array(a, dtype=dtype, **kwargs)\n"
          ],
          "name": "stderr"
        },
        {
          "output_type": "display_data",
          "data": {
            "text/html": [
              ""
            ],
            "text/plain": [
              "<IPython.core.display.HTML object>"
            ]
          },
          "metadata": {
            "tags": []
          }
        },
        {
          "output_type": "stream",
          "text": [
            "/usr/local/lib/python3.7/dist-packages/numpy/core/_asarray.py:83: VisibleDeprecationWarning: Creating an ndarray from ragged nested sequences (which is a list-or-tuple of lists-or-tuples-or ndarrays with different lengths or shapes) is deprecated. If you meant to do this, you must specify 'dtype=object' when creating the ndarray\n",
            "  return array(a, dtype, copy=False, order=order)\n",
            "<string>:6: VisibleDeprecationWarning: Creating an ndarray from ragged nested sequences (which is a list-or-tuple of lists-or-tuples-or ndarrays with different lengths or shapes) is deprecated. If you meant to do this, you must specify 'dtype=object' when creating the ndarray\n"
          ],
          "name": "stderr"
        }
      ]
    },
    {
      "cell_type": "code",
      "metadata": {
        "colab": {
          "base_uri": "https://localhost:8080/",
          "height": 479
        },
        "id": "NlAD8Tr9RudM",
        "outputId": "6af9fed9-0337-47bd-dcad-c5bbe8207701"
      },
      "source": [
        "data_clas.show_batch()"
      ],
      "execution_count": null,
      "outputs": [
        {
          "output_type": "stream",
          "text": [
            "/usr/local/lib/python3.7/dist-packages/numpy/core/_asarray.py:83: VisibleDeprecationWarning: Creating an ndarray from ragged nested sequences (which is a list-or-tuple of lists-or-tuples-or ndarrays with different lengths or shapes) is deprecated. If you meant to do this, you must specify 'dtype=object' when creating the ndarray\n",
            "  return array(a, dtype, copy=False, order=order)\n",
            "<string>:6: VisibleDeprecationWarning: Creating an ndarray from ragged nested sequences (which is a list-or-tuple of lists-or-tuples-or ndarrays with different lengths or shapes) is deprecated. If you meant to do this, you must specify 'dtype=object' when creating the ndarray\n"
          ],
          "name": "stderr"
        },
        {
          "output_type": "display_data",
          "data": {
            "text/html": [
              "<table border=\"1\" class=\"dataframe\">\n",
              "  <thead>\n",
              "    <tr style=\"text-align: right;\">\n",
              "      <th>text</th>\n",
              "      <th>target</th>\n",
              "    </tr>\n",
              "  </thead>\n",
              "  <tbody>\n",
              "    <tr>\n",
              "      <td>xxbos xxfld 1 6 : 45 ve 7 : 40 arası , xxmaj atta ve xxmaj omari , xxmaj xxunk al xxmaj xxunk , xxmaj wail al xxmaj shehri ve xxmaj xxunk al xxmaj shehri ile birlikte , xxunk - in yaptı ve xxmaj los xxmaj angeles ' a giden xxmaj american xxmaj xxunk 11 xxunk xxunk bindi . xxfld 2 xxmaj atta ve xxmaj omari xxunk yanı xxunk ve</td>\n",
              "      <td>neutral</td>\n",
              "    </tr>\n",
              "    <tr>\n",
              "      <td>xxbos xxfld 1 6 : 45 ve 7 : 40 arası , xxmaj atta ve xxmaj omari , xxmaj xxunk al xxmaj xxunk , xxmaj wail al xxmaj shehri ve xxmaj xxunk al xxmaj shehri ile birlikte , xxunk - in yaptı ve xxmaj los xxmaj angeles ' a giden xxmaj american xxmaj xxunk 11 xxunk xxunk bindi . xxfld 2 xxmaj xxunk gitmeye xxunk ama xxmaj wail al xxmaj</td>\n",
              "      <td>contradiction</td>\n",
              "    </tr>\n",
              "    <tr>\n",
              "      <td>xxbos xxfld 1 6 : 45 ve 7 : 40 arası , xxmaj atta ve xxmaj omari , xxmaj xxunk al xxmaj xxunk , xxmaj wail al xxmaj shehri ve xxmaj xxunk al xxmaj shehri ile birlikte , xxunk - in yaptı ve xxmaj los xxmaj angeles ' a giden xxmaj american xxmaj xxunk 11 xxunk xxunk bindi . xxfld 2 xxmaj los xxmaj angeles ' a saat xxunk :</td>\n",
              "      <td>entailment</td>\n",
              "    </tr>\n",
              "    <tr>\n",
              "      <td>xxbos xxfld 1 xxmaj böylece , ortalama olarak xxmaj webster ' s xxmaj xxunk xxmaj new xxmaj xxunk ve xxmaj xxunk xxmaj house xxmaj webster xxmaj xxunk , xxmaj amerikan xxmaj xxunk ve xxmaj webster ' ın xxmaj yeni xxmaj dünya ' sından en az yüzde on beş daha fazla bilgi içeriyor . xxfld 2 xxmaj webster ' s xxmaj college ' ta diğer xxunk çok daha fazla eksik bilgi</td>\n",
              "      <td>contradiction</td>\n",
              "    </tr>\n",
              "    <tr>\n",
              "      <td>xxbos xxfld 1 xxmaj böylece , ortalama olarak xxmaj webster ' s xxmaj xxunk xxmaj new xxmaj xxunk ve xxmaj xxunk xxmaj house xxmaj webster xxmaj xxunk , xxmaj amerikan xxmaj xxunk ve xxmaj webster ' ın xxmaj yeni xxmaj dünya ' sından en az yüzde on beş daha fazla bilgi içeriyor . xxfld 2 xxmaj webster ' s xxmaj college ' ta xxmaj yeni xxmaj dünyadan daha fazla bilgi</td>\n",
              "      <td>entailment</td>\n",
              "    </tr>\n",
              "  </tbody>\n",
              "</table>"
            ],
            "text/plain": [
              "<IPython.core.display.HTML object>"
            ]
          },
          "metadata": {
            "tags": []
          }
        }
      ]
    },
    {
      "cell_type": "code",
      "metadata": {
        "colab": {
          "base_uri": "https://localhost:8080/"
        },
        "id": "0QQrCYPWgRdM",
        "outputId": "bc7bd844-0017-460c-a034-2e3543f471fc"
      },
      "source": [
        "learn_clas = text_classifier_learner(data_clas,AWD_LSTM, drop_mult=0.5)\n",
        "# learn = language_model_learner(data_lm, AWD_LSTM, drop_mult=0.5)\n",
        "\n",
        "learn_clas.load_encoder('mini_train_encoder')"
      ],
      "execution_count": null,
      "outputs": [
        {
          "output_type": "execute_result",
          "data": {
            "text/plain": [
              "RNNLearner(data=TextClasDataBunch;\n",
              "\n",
              "Train: LabelList (2490 items)\n",
              "x: TextList\n",
              "xxbos xxfld 1 xxmaj ve xxmaj anne , xxunk dedi . xxfld 2 xxmaj okul servisi onu xxunk xxunk xxunk xxunk .,xxbos xxfld 1 xxmaj ve xxmaj anne , xxunk dedi . xxfld 2 xxmaj bir kelime söylemedi .,xxbos xxfld 1 xxmaj ve xxmaj anne , xxunk dedi . xxfld 2 xxmaj annesine eve gittiğini söyledi .,xxbos xxfld 1 xxmaj ne için gittiğimi falan bilmiyordum , xxmaj washington ' da belirtilen bir yere rapor vermem gerekiyordu . xxfld 2 xxmaj washington ' a hiç gitmedim , bu yüzden oraya xxunk yeri bulmaya çalışırken xxunk .,xxbos xxfld 1 xxmaj ne için gittiğimi falan bilmiyordum , xxmaj washington ' da belirtilen bir yere rapor vermem gerekiyordu . xxfld 2 xxmaj washington ' a xxunk ne yapmam gerektiğini tam olarak biliyordum .\n",
              "y: CategoryList\n",
              "neutral,contradiction,entailment,neutral,contradiction\n",
              "Path: data/xnli_tr;\n",
              "\n",
              "Valid: LabelList (5010 items)\n",
              "x: TextList\n",
              "xxbos xxfld 1 xxmaj pekala , bunu hiç düşünmemiştim ancak kafam çok karıştı ve onunla tekrar konuşmadım . xxfld 2 xxmaj onunla bir daha konuşmadım .,xxbos xxfld 1 xxmaj pekala , bunu hiç düşünmemiştim ancak kafam çok karıştı ve onunla tekrar konuşmadım . xxfld 2 o kadar çok xxunk ki onunla tekrar konuşmaya başladım .,xxbos xxfld 1 xxmaj pekala , bunu hiç düşünmemiştim ancak kafam çok karıştı ve onunla tekrar konuşmadım . xxfld 2 xxmaj harika bir konuşma yaptık .,xxbos xxfld 1 xxmaj ve bunun bir ayrıcalık olduğunu sanıyordum , ve hala , hala benim , xxup affc xxmaj hava xxmaj kuvvetleri xxmaj kariyer alanım olan dokuz tane iki iki x - o ' ydu . xxfld 2 o gün xxunk tek kişi xxunk farkında değildim .,xxbos xxfld 1 xxmaj ve bunun bir ayrıcalık olduğunu sanıyordum , ve hala , hala benim , xxup affc xxmaj hava xxmaj kuvvetleri xxmaj kariyer alanım olan dokuz tane iki iki x - o ' ydu . xxfld 2 xxup affc xxmaj hava xxmaj kuvvetleri xxmaj kariyer alanında o xxunk sahip olan tek kişi olduğum xxunk .\n",
              "y: CategoryList\n",
              "contradiction,entailment,neutral,neutral,entailment\n",
              "Path: data/xnli_tr;\n",
              "\n",
              "Test: None, model=SequentialRNN(\n",
              "  (0): MultiBatchEncoder(\n",
              "    (module): AWD_LSTM(\n",
              "      (encoder): Embedding(10720, 400, padding_idx=1)\n",
              "      (encoder_dp): EmbeddingDropout(\n",
              "        (emb): Embedding(10720, 400, padding_idx=1)\n",
              "      )\n",
              "      (rnns): ModuleList(\n",
              "        (0): WeightDropout(\n",
              "          (module): LSTM(400, 1152, batch_first=True)\n",
              "        )\n",
              "        (1): WeightDropout(\n",
              "          (module): LSTM(1152, 1152, batch_first=True)\n",
              "        )\n",
              "        (2): WeightDropout(\n",
              "          (module): LSTM(1152, 400, batch_first=True)\n",
              "        )\n",
              "      )\n",
              "      (input_dp): RNNDropout()\n",
              "      (hidden_dps): ModuleList(\n",
              "        (0): RNNDropout()\n",
              "        (1): RNNDropout()\n",
              "        (2): RNNDropout()\n",
              "      )\n",
              "    )\n",
              "  )\n",
              "  (1): PoolingLinearClassifier(\n",
              "    (layers): Sequential(\n",
              "      (0): BatchNorm1d(1200, eps=1e-05, momentum=0.1, affine=True, track_running_stats=True)\n",
              "      (1): Dropout(p=0.2, inplace=False)\n",
              "      (2): Linear(in_features=1200, out_features=50, bias=True)\n",
              "      (3): ReLU(inplace=True)\n",
              "      (4): BatchNorm1d(50, eps=1e-05, momentum=0.1, affine=True, track_running_stats=True)\n",
              "      (5): Dropout(p=0.1, inplace=False)\n",
              "      (6): Linear(in_features=50, out_features=3, bias=True)\n",
              "    )\n",
              "  )\n",
              "), opt_func=functools.partial(<class 'torch.optim.adam.Adam'>, betas=(0.9, 0.99)), loss_func=FlattenedLoss of CrossEntropyLoss(), metrics=[<function accuracy at 0x7f020d684a70>], true_wd=True, bn_wd=True, wd=0.01, train_bn=True, path=PosixPath('data/xnli_tr'), model_dir='models', callback_fns=[functools.partial(<class 'fastai.basic_train.Recorder'>, add_time=True, silent=False)], callbacks=[RNNTrainer\n",
              "learn: ...\n",
              "alpha: 2.0\n",
              "beta: 1.0], layer_groups=[Sequential(\n",
              "  (0): Embedding(10720, 400, padding_idx=1)\n",
              "  (1): EmbeddingDropout(\n",
              "    (emb): Embedding(10720, 400, padding_idx=1)\n",
              "  )\n",
              "), Sequential(\n",
              "  (0): WeightDropout(\n",
              "    (module): LSTM(400, 1152, batch_first=True)\n",
              "  )\n",
              "  (1): RNNDropout()\n",
              "), Sequential(\n",
              "  (0): WeightDropout(\n",
              "    (module): LSTM(1152, 1152, batch_first=True)\n",
              "  )\n",
              "  (1): RNNDropout()\n",
              "), Sequential(\n",
              "  (0): WeightDropout(\n",
              "    (module): LSTM(1152, 400, batch_first=True)\n",
              "  )\n",
              "  (1): RNNDropout()\n",
              "), Sequential(\n",
              "  (0): PoolingLinearClassifier(\n",
              "    (layers): Sequential(\n",
              "      (0): BatchNorm1d(1200, eps=1e-05, momentum=0.1, affine=True, track_running_stats=True)\n",
              "      (1): Dropout(p=0.2, inplace=False)\n",
              "      (2): Linear(in_features=1200, out_features=50, bias=True)\n",
              "      (3): ReLU(inplace=True)\n",
              "      (4): BatchNorm1d(50, eps=1e-05, momentum=0.1, affine=True, track_running_stats=True)\n",
              "      (5): Dropout(p=0.1, inplace=False)\n",
              "      (6): Linear(in_features=50, out_features=3, bias=True)\n",
              "    )\n",
              "  )\n",
              ")], add_time=True, silent=False)"
            ]
          },
          "metadata": {
            "tags": []
          },
          "execution_count": 21
        }
      ]
    },
    {
      "cell_type": "code",
      "metadata": {
        "colab": {
          "base_uri": "https://localhost:8080/",
          "height": 527
        },
        "id": "DIksZuxWgVTj",
        "outputId": "e21a3a7b-6c4b-48e6-f608-605625207c50"
      },
      "source": [
        "learn_clas.lr_find() # start_lr=1e-15, end_lr=1e2\n",
        "learn_clas.recorder.plot() # skip_end=4"
      ],
      "execution_count": null,
      "outputs": [
        {
          "output_type": "display_data",
          "data": {
            "text/html": [
              "\n",
              "    <div>\n",
              "        <style>\n",
              "            /* Turns off some styling */\n",
              "            progress {\n",
              "                /* gets rid of default border in Firefox and Opera. */\n",
              "                border: none;\n",
              "                /* Needs to be in here for Safari polyfill so background images work as expected. */\n",
              "                background-size: auto;\n",
              "            }\n",
              "            .progress-bar-interrupted, .progress-bar-interrupted::-webkit-progress-bar {\n",
              "                background: #F44336;\n",
              "            }\n",
              "        </style>\n",
              "      <progress value='1' class='' max='2' style='width:300px; height:20px; vertical-align: middle;'></progress>\n",
              "      50.00% [1/2 01:23<01:23]\n",
              "    </div>\n",
              "    \n",
              "<table border=\"1\" class=\"dataframe\">\n",
              "  <thead>\n",
              "    <tr style=\"text-align: left;\">\n",
              "      <th>epoch</th>\n",
              "      <th>train_loss</th>\n",
              "      <th>valid_loss</th>\n",
              "      <th>accuracy</th>\n",
              "      <th>time</th>\n",
              "    </tr>\n",
              "  </thead>\n",
              "  <tbody>\n",
              "    <tr>\n",
              "      <td>0</td>\n",
              "      <td>1.207254</td>\n",
              "      <td>#na#</td>\n",
              "      <td>01:23</td>\n",
              "    </tr>\n",
              "  </tbody>\n",
              "</table><p>\n",
              "\n",
              "    <div>\n",
              "        <style>\n",
              "            /* Turns off some styling */\n",
              "            progress {\n",
              "                /* gets rid of default border in Firefox and Opera. */\n",
              "                border: none;\n",
              "                /* Needs to be in here for Safari polyfill so background images work as expected. */\n",
              "                background-size: auto;\n",
              "            }\n",
              "            .progress-bar-interrupted, .progress-bar-interrupted::-webkit-progress-bar {\n",
              "                background: #F44336;\n",
              "            }\n",
              "        </style>\n",
              "      <progress value='37' class='' max='59' style='width:300px; height:20px; vertical-align: middle;'></progress>\n",
              "      62.71% [37/59 00:50<00:30 4.5786]\n",
              "    </div>\n",
              "    "
            ],
            "text/plain": [
              "<IPython.core.display.HTML object>"
            ]
          },
          "metadata": {
            "tags": []
          }
        },
        {
          "output_type": "stream",
          "text": [
            "/usr/local/lib/python3.7/dist-packages/numpy/core/_asarray.py:83: VisibleDeprecationWarning: Creating an ndarray from ragged nested sequences (which is a list-or-tuple of lists-or-tuples-or ndarrays with different lengths or shapes) is deprecated. If you meant to do this, you must specify 'dtype=object' when creating the ndarray\n",
            "  return array(a, dtype, copy=False, order=order)\n",
            "<string>:6: VisibleDeprecationWarning: Creating an ndarray from ragged nested sequences (which is a list-or-tuple of lists-or-tuples-or ndarrays with different lengths or shapes) is deprecated. If you meant to do this, you must specify 'dtype=object' when creating the ndarray\n",
            "/usr/local/lib/python3.7/dist-packages/numpy/core/_asarray.py:83: VisibleDeprecationWarning: Creating an ndarray from ragged nested sequences (which is a list-or-tuple of lists-or-tuples-or ndarrays with different lengths or shapes) is deprecated. If you meant to do this, you must specify 'dtype=object' when creating the ndarray\n",
            "  return array(a, dtype, copy=False, order=order)\n",
            "<string>:6: VisibleDeprecationWarning: Creating an ndarray from ragged nested sequences (which is a list-or-tuple of lists-or-tuples-or ndarrays with different lengths or shapes) is deprecated. If you meant to do this, you must specify 'dtype=object' when creating the ndarray\n"
          ],
          "name": "stderr"
        },
        {
          "output_type": "stream",
          "text": [
            "LR Finder is complete, type {learner_name}.recorder.plot() to see the graph.\n"
          ],
          "name": "stdout"
        },
        {
          "output_type": "display_data",
          "data": {
            "image/png": "[encoded data removed]",
            "text/plain": [
              "<Figure size 432x288 with 1 Axes>"
            ]
          },
          "metadata": {
            "tags": [],
            "needs_background": "light"
          }
        }
      ]
    },
    {
      "cell_type": "code",
      "metadata": {
        "colab": {
          "base_uri": "https://localhost:8080/",
          "height": 397
        },
        "id": "Sj4EAI3ggl96",
        "outputId": "133b30eb-8cc5-44c7-d39b-876e544f25ce"
      },
      "source": [
        "learn_clas.fit_one_cycle(4, 4e-3)"
      ],
      "execution_count": null,
      "outputs": [
        {
          "output_type": "display_data",
          "data": {
            "text/html": [
              "<table border=\"1\" class=\"dataframe\">\n",
              "  <thead>\n",
              "    <tr style=\"text-align: left;\">\n",
              "      <th>epoch</th>\n",
              "      <th>train_loss</th>\n",
              "      <th>valid_loss</th>\n",
              "      <th>accuracy</th>\n",
              "      <th>time</th>\n",
              "    </tr>\n",
              "  </thead>\n",
              "  <tbody>\n",
              "    <tr>\n",
              "      <td>0</td>\n",
              "      <td>1.188049</td>\n",
              "      <td>1.125657</td>\n",
              "      <td>0.364870</td>\n",
              "      <td>04:00</td>\n",
              "    </tr>\n",
              "    <tr>\n",
              "      <td>1</td>\n",
              "      <td>1.132703</td>\n",
              "      <td>1.097534</td>\n",
              "      <td>0.359082</td>\n",
              "      <td>03:55</td>\n",
              "    </tr>\n",
              "    <tr>\n",
              "      <td>2</td>\n",
              "      <td>1.111475</td>\n",
              "      <td>1.090345</td>\n",
              "      <td>0.384032</td>\n",
              "      <td>03:46</td>\n",
              "    </tr>\n",
              "    <tr>\n",
              "      <td>3</td>\n",
              "      <td>1.095338</td>\n",
              "      <td>1.088027</td>\n",
              "      <td>0.390419</td>\n",
              "      <td>03:51</td>\n",
              "    </tr>\n",
              "  </tbody>\n",
              "</table>"
            ],
            "text/plain": [
              "<IPython.core.display.HTML object>"
            ]
          },
          "metadata": {
            "tags": []
          }
        },
        {
          "output_type": "stream",
          "text": [
            "/usr/local/lib/python3.7/dist-packages/numpy/core/_asarray.py:83: VisibleDeprecationWarning: Creating an ndarray from ragged nested sequences (which is a list-or-tuple of lists-or-tuples-or ndarrays with different lengths or shapes) is deprecated. If you meant to do this, you must specify 'dtype=object' when creating the ndarray\n",
            "  return array(a, dtype, copy=False, order=order)\n",
            "<string>:6: VisibleDeprecationWarning: Creating an ndarray from ragged nested sequences (which is a list-or-tuple of lists-or-tuples-or ndarrays with different lengths or shapes) is deprecated. If you meant to do this, you must specify 'dtype=object' when creating the ndarray\n",
            "/usr/local/lib/python3.7/dist-packages/numpy/core/_asarray.py:83: VisibleDeprecationWarning: Creating an ndarray from ragged nested sequences (which is a list-or-tuple of lists-or-tuples-or ndarrays with different lengths or shapes) is deprecated. If you meant to do this, you must specify 'dtype=object' when creating the ndarray\n",
            "  return array(a, dtype, copy=False, order=order)\n",
            "<string>:6: VisibleDeprecationWarning: Creating an ndarray from ragged nested sequences (which is a list-or-tuple of lists-or-tuples-or ndarrays with different lengths or shapes) is deprecated. If you meant to do this, you must specify 'dtype=object' when creating the ndarray\n",
            "/usr/local/lib/python3.7/dist-packages/numpy/core/_asarray.py:83: VisibleDeprecationWarning: Creating an ndarray from ragged nested sequences (which is a list-or-tuple of lists-or-tuples-or ndarrays with different lengths or shapes) is deprecated. If you meant to do this, you must specify 'dtype=object' when creating the ndarray\n",
            "  return array(a, dtype, copy=False, order=order)\n",
            "<string>:6: VisibleDeprecationWarning: Creating an ndarray from ragged nested sequences (which is a list-or-tuple of lists-or-tuples-or ndarrays with different lengths or shapes) is deprecated. If you meant to do this, you must specify 'dtype=object' when creating the ndarray\n",
            "/usr/local/lib/python3.7/dist-packages/numpy/core/_asarray.py:83: VisibleDeprecationWarning: Creating an ndarray from ragged nested sequences (which is a list-or-tuple of lists-or-tuples-or ndarrays with different lengths or shapes) is deprecated. If you meant to do this, you must specify 'dtype=object' when creating the ndarray\n",
            "  return array(a, dtype, copy=False, order=order)\n",
            "<string>:6: VisibleDeprecationWarning: Creating an ndarray from ragged nested sequences (which is a list-or-tuple of lists-or-tuples-or ndarrays with different lengths or shapes) is deprecated. If you meant to do this, you must specify 'dtype=object' when creating the ndarray\n"
          ],
          "name": "stderr"
        }
      ]
    },
    {
      "cell_type": "code",
      "metadata": {
        "colab": {
          "base_uri": "https://localhost:8080/",
          "height": 459
        },
        "id": "Bm_cfQpYhBc6",
        "outputId": "f978b60f-779c-4c96-aabf-feaa01b060af"
      },
      "source": [
        "learn_clas.show_results()"
      ],
      "execution_count": null,
      "outputs": [
        {
          "output_type": "display_data",
          "data": {
            "text/html": [
              "<table border=\"1\" class=\"dataframe\">\n",
              "  <thead>\n",
              "    <tr style=\"text-align: right;\">\n",
              "      <th>text</th>\n",
              "      <th>target</th>\n",
              "      <th>prediction</th>\n",
              "    </tr>\n",
              "  </thead>\n",
              "  <tbody>\n",
              "    <tr>\n",
              "      <td>xxbos xxfld 1 1972 ' de xxmaj phillip xxmaj morris , xxmaj inc . ' in xxmaj miller xxmaj brewing xxmaj co. şirketi , xxmaj meister xxmaj brau xxmaj inc. şirketinin satınalmasında xxmaj lite bira etiketini satın aldı . xxfld 2 xxmaj phillip xxmaj morris , xxmaj inc . ' in xxunk xxmaj miller xxmaj brewing xxmaj co . xxmaj meister xxmaj brau xxmaj inc . , xxunk tümünü satın</td>\n",
              "      <td>contradiction</td>\n",
              "      <td>entailment</td>\n",
              "    </tr>\n",
              "    <tr>\n",
              "      <td>xxbos xxfld 1 1972 ' de xxmaj phillip xxmaj morris , xxmaj inc . ' in xxmaj miller xxmaj brewing xxmaj co. şirketi , xxmaj meister xxmaj brau xxmaj inc. şirketinin satınalmasında xxmaj lite bira etiketini satın aldı . xxfld 2 xxmaj phillip xxmaj morris , xxmaj inc . ' in xxmaj miller xxmaj brewing xxmaj co . , 1972 ' de xxmaj meister xxmaj brau xxmaj inc . '</td>\n",
              "      <td>entailment</td>\n",
              "      <td>entailment</td>\n",
              "    </tr>\n",
              "    <tr>\n",
              "      <td>xxbos xxfld 1 xxmaj daha fazla xxmaj anti - xxmaj defamation xxmaj league ' in araştırması , xxmaj amerika ' nın sert çekirdekli anti - semitlerinde , 1964 ' teki yüzde 29 ' dan 1992 ' de yüzde 20 ' ye , şu an yüzde 12 ' ye kadar devam eden bir düşüşü açıklıyor . xxfld 2 xxmaj xxunk ve xxmaj xxunk xxmaj mücadele xxmaj birliği anketi xxmaj amerika '</td>\n",
              "      <td>contradiction</td>\n",
              "      <td>contradiction</td>\n",
              "    </tr>\n",
              "    <tr>\n",
              "      <td>xxbos xxfld 1 xxmaj deborah xxmaj cameron ve xxmaj deborah xxmaj hills ( ' xxmaj radyo konuşması ' : radyo programlarına xxunk xxunk xxunk ve xxunk arasındaki ilişkileri xxunk ) xxmaj londra ' daki konuşma ve tartışma istasyonu olan ve ilgiyle xxunk xxup lbc xxmaj radyo ' nun xxunk xxunk . xxfld 2 xxmaj deborah xxmaj cameron ve xxmaj deborah xxmaj hills , xxup lbc xxmaj radyo ' da olanlarla</td>\n",
              "      <td>neutral</td>\n",
              "      <td>contradiction</td>\n",
              "    </tr>\n",
              "    <tr>\n",
              "      <td>xxbos xxfld 1 xxmaj daha fazla xxmaj anti - xxmaj defamation xxmaj league ' in araştırması , xxmaj amerika ' nın sert çekirdekli anti - semitlerinde , 1964 ' teki yüzde 29 ' dan 1992 ' de yüzde 20 ' ye , şu an yüzde 12 ' ye kadar devam eden bir düşüşü açıklıyor . xxfld 2 xxmaj xxunk xxmaj karşıtı xxmaj derneği ' nin anketi xxmaj amerika ' da</td>\n",
              "      <td>entailment</td>\n",
              "      <td>entailment</td>\n",
              "    </tr>\n",
              "  </tbody>\n",
              "</table>"
            ],
            "text/plain": [
              "<IPython.core.display.HTML object>"
            ]
          },
          "metadata": {
            "tags": []
          }
        }
      ]
    },
    {
      "cell_type": "code",
      "metadata": {
        "colab": {
          "base_uri": "https://localhost:8080/",
          "height": 279
        },
        "id": "unjfumbqhE62",
        "outputId": "cfe5747c-dda3-4d34-a6b1-08b0701c3d11"
      },
      "source": [
        "learn_clas.recorder.plot_losses()"
      ],
      "execution_count": null,
      "outputs": [
        {
          "output_type": "display_data",
          "data": {
            "image/png": "[encoded data removed]",
            "text/plain": [
              "<Figure size 432x288 with 1 Axes>"
            ]
          },
          "metadata": {
            "tags": [],
            "needs_background": "light"
          }
        }
      ]
    },
    {
      "cell_type": "code",
      "metadata": {
        "id": "xGAckxKuhGs1"
      },
      "source": [
        "import os \n",
        "learn_clas.save(os.getcwd()+'mini_train_clas')"
      ],
      "execution_count": null,
      "outputs": []
    },
    {
      "cell_type": "code",
      "metadata": {
        "colab": {
          "base_uri": "https://localhost:8080/",
          "height": 889
        },
        "id": "puE-tWpVhKSF",
        "outputId": "0c76bdc3-1a43-4829-a678-cbe81f726164"
      },
      "source": [
        "#train for 10 epochs\n",
        "learn_clas.fit_one_cycle(10, 4e-3)"
      ],
      "execution_count": null,
      "outputs": [
        {
          "output_type": "display_data",
          "data": {
            "text/html": [
              "<table border=\"1\" class=\"dataframe\">\n",
              "  <thead>\n",
              "    <tr style=\"text-align: left;\">\n",
              "      <th>epoch</th>\n",
              "      <th>train_loss</th>\n",
              "      <th>valid_loss</th>\n",
              "      <th>accuracy</th>\n",
              "      <th>time</th>\n",
              "    </tr>\n",
              "  </thead>\n",
              "  <tbody>\n",
              "    <tr>\n",
              "      <td>0</td>\n",
              "      <td>1.084084</td>\n",
              "      <td>1.092469</td>\n",
              "      <td>0.380040</td>\n",
              "      <td>03:56</td>\n",
              "    </tr>\n",
              "    <tr>\n",
              "      <td>1</td>\n",
              "      <td>1.092571</td>\n",
              "      <td>1.087942</td>\n",
              "      <td>0.383433</td>\n",
              "      <td>03:53</td>\n",
              "    </tr>\n",
              "    <tr>\n",
              "      <td>2</td>\n",
              "      <td>1.102286</td>\n",
              "      <td>1.089049</td>\n",
              "      <td>0.373852</td>\n",
              "      <td>03:46</td>\n",
              "    </tr>\n",
              "    <tr>\n",
              "      <td>3</td>\n",
              "      <td>1.097809</td>\n",
              "      <td>1.103657</td>\n",
              "      <td>0.375050</td>\n",
              "      <td>03:51</td>\n",
              "    </tr>\n",
              "    <tr>\n",
              "      <td>4</td>\n",
              "      <td>1.093141</td>\n",
              "      <td>1.092478</td>\n",
              "      <td>0.379242</td>\n",
              "      <td>03:53</td>\n",
              "    </tr>\n",
              "    <tr>\n",
              "      <td>5</td>\n",
              "      <td>1.089430</td>\n",
              "      <td>1.085126</td>\n",
              "      <td>0.396607</td>\n",
              "      <td>03:52</td>\n",
              "    </tr>\n",
              "    <tr>\n",
              "      <td>6</td>\n",
              "      <td>1.087934</td>\n",
              "      <td>1.083125</td>\n",
              "      <td>0.395409</td>\n",
              "      <td>03:46</td>\n",
              "    </tr>\n",
              "    <tr>\n",
              "      <td>7</td>\n",
              "      <td>1.082444</td>\n",
              "      <td>1.081510</td>\n",
              "      <td>0.404192</td>\n",
              "      <td>03:52</td>\n",
              "    </tr>\n",
              "    <tr>\n",
              "      <td>8</td>\n",
              "      <td>1.079826</td>\n",
              "      <td>1.080719</td>\n",
              "      <td>0.408383</td>\n",
              "      <td>03:48</td>\n",
              "    </tr>\n",
              "    <tr>\n",
              "      <td>9</td>\n",
              "      <td>1.074489</td>\n",
              "      <td>1.081484</td>\n",
              "      <td>0.405589</td>\n",
              "      <td>03:53</td>\n",
              "    </tr>\n",
              "  </tbody>\n",
              "</table>"
            ],
            "text/plain": [
              "<IPython.core.display.HTML object>"
            ]
          },
          "metadata": {
            "tags": []
          }
        },
        {
          "output_type": "stream",
          "text": [
            "/usr/local/lib/python3.7/dist-packages/numpy/core/_asarray.py:83: VisibleDeprecationWarning: Creating an ndarray from ragged nested sequences (which is a list-or-tuple of lists-or-tuples-or ndarrays with different lengths or shapes) is deprecated. If you meant to do this, you must specify 'dtype=object' when creating the ndarray\n",
            "  return array(a, dtype, copy=False, order=order)\n",
            "<string>:6: VisibleDeprecationWarning: Creating an ndarray from ragged nested sequences (which is a list-or-tuple of lists-or-tuples-or ndarrays with different lengths or shapes) is deprecated. If you meant to do this, you must specify 'dtype=object' when creating the ndarray\n",
            "/usr/local/lib/python3.7/dist-packages/numpy/core/_asarray.py:83: VisibleDeprecationWarning: Creating an ndarray from ragged nested sequences (which is a list-or-tuple of lists-or-tuples-or ndarrays with different lengths or shapes) is deprecated. If you meant to do this, you must specify 'dtype=object' when creating the ndarray\n",
            "  return array(a, dtype, copy=False, order=order)\n",
            "<string>:6: VisibleDeprecationWarning: Creating an ndarray from ragged nested sequences (which is a list-or-tuple of lists-or-tuples-or ndarrays with different lengths or shapes) is deprecated. If you meant to do this, you must specify 'dtype=object' when creating the ndarray\n",
            "/usr/local/lib/python3.7/dist-packages/numpy/core/_asarray.py:83: VisibleDeprecationWarning: Creating an ndarray from ragged nested sequences (which is a list-or-tuple of lists-or-tuples-or ndarrays with different lengths or shapes) is deprecated. If you meant to do this, you must specify 'dtype=object' when creating the ndarray\n",
            "  return array(a, dtype, copy=False, order=order)\n",
            "<string>:6: VisibleDeprecationWarning: Creating an ndarray from ragged nested sequences (which is a list-or-tuple of lists-or-tuples-or ndarrays with different lengths or shapes) is deprecated. If you meant to do this, you must specify 'dtype=object' when creating the ndarray\n",
            "/usr/local/lib/python3.7/dist-packages/numpy/core/_asarray.py:83: VisibleDeprecationWarning: Creating an ndarray from ragged nested sequences (which is a list-or-tuple of lists-or-tuples-or ndarrays with different lengths or shapes) is deprecated. If you meant to do this, you must specify 'dtype=object' when creating the ndarray\n",
            "  return array(a, dtype, copy=False, order=order)\n",
            "<string>:6: VisibleDeprecationWarning: Creating an ndarray from ragged nested sequences (which is a list-or-tuple of lists-or-tuples-or ndarrays with different lengths or shapes) is deprecated. If you meant to do this, you must specify 'dtype=object' when creating the ndarray\n",
            "/usr/local/lib/python3.7/dist-packages/numpy/core/_asarray.py:83: VisibleDeprecationWarning: Creating an ndarray from ragged nested sequences (which is a list-or-tuple of lists-or-tuples-or ndarrays with different lengths or shapes) is deprecated. If you meant to do this, you must specify 'dtype=object' when creating the ndarray\n",
            "  return array(a, dtype, copy=False, order=order)\n",
            "<string>:6: VisibleDeprecationWarning: Creating an ndarray from ragged nested sequences (which is a list-or-tuple of lists-or-tuples-or ndarrays with different lengths or shapes) is deprecated. If you meant to do this, you must specify 'dtype=object' when creating the ndarray\n",
            "/usr/local/lib/python3.7/dist-packages/numpy/core/_asarray.py:83: VisibleDeprecationWarning: Creating an ndarray from ragged nested sequences (which is a list-or-tuple of lists-or-tuples-or ndarrays with different lengths or shapes) is deprecated. If you meant to do this, you must specify 'dtype=object' when creating the ndarray\n",
            "  return array(a, dtype, copy=False, order=order)\n",
            "<string>:6: VisibleDeprecationWarning: Creating an ndarray from ragged nested sequences (which is a list-or-tuple of lists-or-tuples-or ndarrays with different lengths or shapes) is deprecated. If you meant to do this, you must specify 'dtype=object' when creating the ndarray\n",
            "/usr/local/lib/python3.7/dist-packages/numpy/core/_asarray.py:83: VisibleDeprecationWarning: Creating an ndarray from ragged nested sequences (which is a list-or-tuple of lists-or-tuples-or ndarrays with different lengths or shapes) is deprecated. If you meant to do this, you must specify 'dtype=object' when creating the ndarray\n",
            "  return array(a, dtype, copy=False, order=order)\n",
            "<string>:6: VisibleDeprecationWarning: Creating an ndarray from ragged nested sequences (which is a list-or-tuple of lists-or-tuples-or ndarrays with different lengths or shapes) is deprecated. If you meant to do this, you must specify 'dtype=object' when creating the ndarray\n",
            "/usr/local/lib/python3.7/dist-packages/numpy/core/_asarray.py:83: VisibleDeprecationWarning: Creating an ndarray from ragged nested sequences (which is a list-or-tuple of lists-or-tuples-or ndarrays with different lengths or shapes) is deprecated. If you meant to do this, you must specify 'dtype=object' when creating the ndarray\n",
            "  return array(a, dtype, copy=False, order=order)\n",
            "<string>:6: VisibleDeprecationWarning: Creating an ndarray from ragged nested sequences (which is a list-or-tuple of lists-or-tuples-or ndarrays with different lengths or shapes) is deprecated. If you meant to do this, you must specify 'dtype=object' when creating the ndarray\n",
            "/usr/local/lib/python3.7/dist-packages/numpy/core/_asarray.py:83: VisibleDeprecationWarning: Creating an ndarray from ragged nested sequences (which is a list-or-tuple of lists-or-tuples-or ndarrays with different lengths or shapes) is deprecated. If you meant to do this, you must specify 'dtype=object' when creating the ndarray\n",
            "  return array(a, dtype, copy=False, order=order)\n",
            "<string>:6: VisibleDeprecationWarning: Creating an ndarray from ragged nested sequences (which is a list-or-tuple of lists-or-tuples-or ndarrays with different lengths or shapes) is deprecated. If you meant to do this, you must specify 'dtype=object' when creating the ndarray\n",
            "/usr/local/lib/python3.7/dist-packages/numpy/core/_asarray.py:83: VisibleDeprecationWarning: Creating an ndarray from ragged nested sequences (which is a list-or-tuple of lists-or-tuples-or ndarrays with different lengths or shapes) is deprecated. If you meant to do this, you must specify 'dtype=object' when creating the ndarray\n",
            "  return array(a, dtype, copy=False, order=order)\n",
            "<string>:6: VisibleDeprecationWarning: Creating an ndarray from ragged nested sequences (which is a list-or-tuple of lists-or-tuples-or ndarrays with different lengths or shapes) is deprecated. If you meant to do this, you must specify 'dtype=object' when creating the ndarray\n"
          ],
          "name": "stderr"
        }
      ]
    }
  ]
}
