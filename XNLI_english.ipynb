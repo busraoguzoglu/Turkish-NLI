{
  "nbformat": 4,
  "nbformat_minor": 0,
  "metadata": {
    "colab": {
      "name": "XNLI-english.ipynb",
      "provenance": []
    },
    "kernelspec": {
      "name": "python3",
      "display_name": "Python 3"
    },
    "language_info": {
      "name": "python"
    }
  },
  "cells": [
    {
      "cell_type": "code",
      "metadata": {
        "id": "lmXwT_YsYCFx"
      },
      "source": [
        "from fastai import *\n",
        "from fastai.text import * \n",
        "def random_seed(seed_value, use_cuda):\n",
        "    np.random.seed(seed_value) # cpu vars\n",
        "    torch.manual_seed(seed_value) # cpu  vars\n",
        "    random.seed(seed_value) # Python\n",
        "    if use_cuda: \n",
        "        torch.cuda.manual_seed(seed_value)\n",
        "        torch.cuda.manual_seed_all(seed_value) # gpu vars\n",
        "        torch.backends.cudnn.deterministic = True  #needed\n",
        "        torch.backends.cudnn.benchmark = False\n",
        "        \n",
        "random_seed(42, True)"
      ],
      "execution_count": 1,
      "outputs": []
    },
    {
      "cell_type": "code",
      "metadata": {
        "colab": {
          "base_uri": "https://localhost:8080/"
        },
        "id": "II0w9gjXYO6F",
        "outputId": "270458df-fef3-4595-e521-99b87d1e2feb"
      },
      "source": [
        "# bring en files (all then filter)\n",
        "!wget https://raw.githubusercontent.com/abedkhooli/ds2/master/ulmfit2/prepare_xnli.sh "
      ],
      "execution_count": 3,
      "outputs": [
        {
          "output_type": "stream",
          "text": [
            "--2021-06-13 07:59:04--  https://raw.githubusercontent.com/abedkhooli/ds2/master/ulmfit2/prepare_xnli.sh\n",
            "Resolving raw.githubusercontent.com (raw.githubusercontent.com)... 185.199.111.133, 185.199.108.133, 185.199.110.133, ...\n",
            "Connecting to raw.githubusercontent.com (raw.githubusercontent.com)|185.199.111.133|:443... connected.\n",
            "HTTP request sent, awaiting response... 200 OK\n",
            "Length: 772 [text/plain]\n",
            "Saving to: ‘prepare_xnli.sh.1’\n",
            "\n",
            "\rprepare_xnli.sh.1     0%[                    ]       0  --.-KB/s               \rprepare_xnli.sh.1   100%[===================>]     772  --.-KB/s    in 0s      \n",
            "\n",
            "2021-06-13 07:59:04 (34.2 MB/s) - ‘prepare_xnli.sh.1’ saved [772/772]\n",
            "\n"
          ],
          "name": "stdout"
        }
      ]
    },
    {
      "cell_type": "code",
      "metadata": {
        "colab": {
          "base_uri": "https://localhost:8080/"
        },
        "id": "IWATtUUGYjKT",
        "outputId": "c91a3272-306a-49ee-b6b8-4a83bd810278"
      },
      "source": [
        "filename_dev = 'xnli.dev.tsv'\n",
        "filename_test = 'xnli.test.tsv'\n",
        "df_dev = pd.read_csv(filename_dev, delimiter='\\t', quoting=csv.QUOTE_NONE)\n",
        "df_test = pd.read_csv(filename_test, delimiter='\\t', quoting=csv.QUOTE_NONE)\n",
        "len(df_dev), len(df_test)"
      ],
      "execution_count": 6,
      "outputs": [
        {
          "output_type": "execute_result",
          "data": {
            "text/plain": [
              "(37350, 75150)"
            ]
          },
          "metadata": {
            "tags": []
          },
          "execution_count": 6
        }
      ]
    },
    {
      "cell_type": "code",
      "metadata": {
        "colab": {
          "base_uri": "https://localhost:8080/"
        },
        "id": "-CtJW7y4ZpM7",
        "outputId": "50063718-d327-4ca3-9575-52cad8282516"
      },
      "source": [
        "df_dev_en= df_dev[df_dev['language']=='en']\n",
        "df_test_en= df_test[df_test['language']=='en']\n",
        "len(df_dev_en), len(df_test_en)\n",
        "# Each language has 2490 dev samples and 5010 test samples (from readme)."
      ],
      "execution_count": 7,
      "outputs": [
        {
          "output_type": "execute_result",
          "data": {
            "text/plain": [
              "(2490, 5010)"
            ]
          },
          "metadata": {
            "tags": []
          },
          "execution_count": 7
        }
      ]
    },
    {
      "cell_type": "code",
      "metadata": {
        "colab": {
          "base_uri": "https://localhost:8080/",
          "height": 204
        },
        "id": "sCQJLR8gZtVX",
        "outputId": "6fecb27f-d0fa-4fa4-8b36-63506b26ff99"
      },
      "source": [
        "df_dev_en = df_dev_en[['gold_label','sentence1_tokenized', 'sentence2_tokenized']]\n",
        "df_test_en = df_test_en[['gold_label','sentence1_tokenized', 'sentence2_tokenized']]\n",
        "df_dev_en['is_valid'] = False\n",
        "df_test_en['is_valid'] = True\n",
        "df_test_en.head()"
      ],
      "execution_count": 8,
      "outputs": [
        {
          "output_type": "execute_result",
          "data": {
            "text/html": [
              "<div>\n",
              "<style scoped>\n",
              "    .dataframe tbody tr th:only-of-type {\n",
              "        vertical-align: middle;\n",
              "    }\n",
              "\n",
              "    .dataframe tbody tr th {\n",
              "        vertical-align: top;\n",
              "    }\n",
              "\n",
              "    .dataframe thead th {\n",
              "        text-align: right;\n",
              "    }\n",
              "</style>\n",
              "<table border=\"1\" class=\"dataframe\">\n",
              "  <thead>\n",
              "    <tr style=\"text-align: right;\">\n",
              "      <th></th>\n",
              "      <th>gold_label</th>\n",
              "      <th>sentence1_tokenized</th>\n",
              "      <th>sentence2_tokenized</th>\n",
              "      <th>is_valid</th>\n",
              "    </tr>\n",
              "  </thead>\n",
              "  <tbody>\n",
              "    <tr>\n",
              "      <th>20040</th>\n",
              "      <td>contradiction</td>\n",
              "      <td>Well , I wasn 't even thinking about that , bu...</td>\n",
              "      <td>I havent spoken to him again .</td>\n",
              "      <td>True</td>\n",
              "    </tr>\n",
              "    <tr>\n",
              "      <th>20041</th>\n",
              "      <td>entailment</td>\n",
              "      <td>Well , I wasn 't even thinking about that , bu...</td>\n",
              "      <td>I was so upset that I just started talking to ...</td>\n",
              "      <td>True</td>\n",
              "    </tr>\n",
              "    <tr>\n",
              "      <th>20042</th>\n",
              "      <td>neutral</td>\n",
              "      <td>Well , I wasn 't even thinking about that , bu...</td>\n",
              "      <td>We had a great talk .</td>\n",
              "      <td>True</td>\n",
              "    </tr>\n",
              "    <tr>\n",
              "      <th>20043</th>\n",
              "      <td>neutral</td>\n",
              "      <td>And I thought that was a privilege , and it 's...</td>\n",
              "      <td>I was not aware that I was not the only person...</td>\n",
              "      <td>True</td>\n",
              "    </tr>\n",
              "    <tr>\n",
              "      <th>20044</th>\n",
              "      <td>entailment</td>\n",
              "      <td>And I thought that was a privilege , and it 's...</td>\n",
              "      <td>I was under the impression that I was the only...</td>\n",
              "      <td>True</td>\n",
              "    </tr>\n",
              "  </tbody>\n",
              "</table>\n",
              "</div>"
            ],
            "text/plain": [
              "          gold_label  ... is_valid\n",
              "20040  contradiction  ...     True\n",
              "20041     entailment  ...     True\n",
              "20042        neutral  ...     True\n",
              "20043        neutral  ...     True\n",
              "20044     entailment  ...     True\n",
              "\n",
              "[5 rows x 4 columns]"
            ]
          },
          "metadata": {
            "tags": []
          },
          "execution_count": 8
        }
      ]
    },
    {
      "cell_type": "code",
      "metadata": {
        "colab": {
          "base_uri": "https://localhost:8080/"
        },
        "id": "DtHkL8xxZ0Fh",
        "outputId": "2762f810-0c3c-439f-b9ec-dd65086bb84e"
      },
      "source": [
        "df_all = pd.concat([df_dev_en,df_test_en])\n",
        "df_all['gold_label'].value_counts()"
      ],
      "execution_count": 9,
      "outputs": [
        {
          "output_type": "execute_result",
          "data": {
            "text/plain": [
              "entailment       2500\n",
              "neutral          2500\n",
              "contradiction    2500\n",
              "Name: gold_label, dtype: int64"
            ]
          },
          "metadata": {
            "tags": []
          },
          "execution_count": 9
        }
      ]
    },
    {
      "cell_type": "code",
      "metadata": {
        "id": "FWlYzrYAZ1bU"
      },
      "source": [
        "# create a data folder and copy train and test data into it \n",
        "Path('data/xnli_en/').mkdir(parents=True, exist_ok=True)\n",
        "df_all.to_csv('data/xnli_en/xnli_text.csv', index=False)"
      ],
      "execution_count": 10,
      "outputs": []
    },
    {
      "cell_type": "code",
      "metadata": {
        "id": "3D0L2KhwaC6j"
      },
      "source": [
        "processor = [TokenizeProcessor(mark_fields=True), NumericalizeProcessor(max_vocab=60000)]"
      ],
      "execution_count": 11,
      "outputs": []
    },
    {
      "cell_type": "code",
      "metadata": {
        "colab": {
          "base_uri": "https://localhost:8080/"
        },
        "id": "Bgt2qQ_zaFfL",
        "outputId": "64a81503-5701-48d3-aa9c-29301430f674"
      },
      "source": [
        "path = Path('data/xnli_en/')\n",
        "path.ls()"
      ],
      "execution_count": 12,
      "outputs": [
        {
          "output_type": "execute_result",
          "data": {
            "text/plain": [
              "[PosixPath('data/xnli_en/xnli_text.csv')]"
            ]
          },
          "metadata": {
            "tags": []
          },
          "execution_count": 12
        }
      ]
    },
    {
      "cell_type": "code",
      "metadata": {
        "colab": {
          "base_uri": "https://localhost:8080/",
          "height": 105
        },
        "id": "aWEccs_6aIAx",
        "outputId": "379b3baa-8509-4248-f2b7-3649b7dc7e1a"
      },
      "source": [
        "data_lm = (TextList.from_csv(path, 'xnli_text.csv', cols=['sentence1_tokenized', 'sentence2_tokenized'],processor = processor)\n",
        "                   .random_split_by_pct()\n",
        "                   .label_for_lm()\n",
        "                   .databunch())\n",
        "data_lm.save()"
      ],
      "execution_count": 13,
      "outputs": [
        {
          "output_type": "stream",
          "text": [
            "/usr/local/lib/python3.7/dist-packages/fastai/data_block.py:217: UserWarning: `random_split_by_pct` is deprecated, please use `split_by_rand_pct`.\n",
            "  warn(\"`random_split_by_pct` is deprecated, please use `split_by_rand_pct`.\")\n"
          ],
          "name": "stderr"
        },
        {
          "output_type": "display_data",
          "data": {
            "text/html": [
              ""
            ],
            "text/plain": [
              "<IPython.core.display.HTML object>"
            ]
          },
          "metadata": {
            "tags": []
          }
        },
        {
          "output_type": "stream",
          "text": [
            "/usr/local/lib/python3.7/dist-packages/fastai/core.py:302: VisibleDeprecationWarning: Creating an ndarray from ragged nested sequences (which is a list-or-tuple of lists-or-tuples-or ndarrays with different lengths or shapes) is deprecated. If you meant to do this, you must specify 'dtype=object' when creating the ndarray\n",
            "  return np.array(a, dtype=dtype, **kwargs)\n"
          ],
          "name": "stderr"
        },
        {
          "output_type": "display_data",
          "data": {
            "text/html": [
              ""
            ],
            "text/plain": [
              "<IPython.core.display.HTML object>"
            ]
          },
          "metadata": {
            "tags": []
          }
        }
      ]
    },
    {
      "cell_type": "code",
      "metadata": {
        "colab": {
          "base_uri": "https://localhost:8080/",
          "height": 733
        },
        "id": "HNXb4nMmaLHX",
        "outputId": "cffdccd0-610b-47f7-a82a-109c92ba1a53"
      },
      "source": [
        "data_lm.show_batch(10)"
      ],
      "execution_count": 14,
      "outputs": [
        {
          "output_type": "display_data",
          "data": {
            "text/html": [
              "<table border=\"1\" class=\"dataframe\">\n",
              "  <thead>\n",
              "    <tr style=\"text-align: right;\">\n",
              "      <th>idx</th>\n",
              "      <th>text</th>\n",
              "    </tr>\n",
              "  </thead>\n",
              "  <tbody>\n",
              "    <tr>\n",
              "      <td>0</td>\n",
              "      <td>, so was to report to a designated place in xxmaj washington . xxfld 2 i have never been to xxmaj washington so when i was assigned there i got lost trying to find the place . xxbos xxfld 1 i didn ' t know what i was going for or anything , so was to report to a designated place in xxmaj washington . xxfld 2 i knew exactly</td>\n",
              "    </tr>\n",
              "    <tr>\n",
              "      <td>1</td>\n",
              "      <td>able to do it on my own . xxbos xxfld 1 xxmaj well , there 's nobody there to help me . xxfld 2 xxmaj there are plenty of people to help me there . xxbos xxfld 1 xxmaj well , there 's nobody there to help me . xxfld 2 xxmaj there isn ' t anyone in that place to assist me . xxbos xxfld 1 xxmaj the xxup</td>\n",
              "    </tr>\n",
              "    <tr>\n",
              "      <td>2</td>\n",
              "      <td>any good really i don ' t think xxfld 2 i think you have to xxunk 10 hours a day to be good at it . xxbos xxfld 1 exactly it 's it 's an active state it 's not something that you can kind of you know be passively involved in and expect to do any good really i don ' t think xxfld 2 i think you need</td>\n",
              "    </tr>\n",
              "    <tr>\n",
              "      <td>3</td>\n",
              "      <td>xxmaj it 's everyone involved in the legal system . xxbos xxfld 1 not just lawyers but police officers and judges and the whole legal profession in general xxfld 2 xxmaj most of the legal system is involved , a majority being that of police . xxbos xxfld 1 and uh that was twenty five hundred people when i joined and uh xxfld 2 xxmaj at the time that i</td>\n",
              "    </tr>\n",
              "    <tr>\n",
              "      <td>4</td>\n",
              "      <td>address narrative organization ( xxmaj what happens next ? xxfld 2 xxmaj five year olds are concerned with what happens next . xxbos xxfld 1 xxmaj for 4- and 5-year - olds , questions more often address narrative organization ( xxmaj what happens next ? xxfld 2 xxmaj five year olds are generally considered poor xxunk . xxbos xxfld 1 xxmaj intuitively , slightly convergent flow in state space allows</td>\n",
              "    </tr>\n",
              "    <tr>\n",
              "      <td>5</td>\n",
              "      <td>tower , he suggests to xxmaj vance , pointing to a corner by a bookshelf . xxfld 2 xxmaj someone is talking to xxmaj vance . xxbos xxfld 1 i turn , in the final section of this chapter , to yet another puzzle concerning what i call a natural game . xxfld 2 i could not address the natural game in this chapter . xxbos xxfld 1 i turn</td>\n",
              "    </tr>\n",
              "    <tr>\n",
              "      <td>6</td>\n",
              "      <td>tainted with a crime . xxbos xxfld 1 xxmaj he was allowed plainly to perceive that it was the graceful , elegant young xxunk from xxmaj st. xxmaj james 's , xxmaj lord xxmaj julian xxmaj wade , to whom her every moment was xxunk . xxfld 2 xxmaj lord xxmaj julian is from xxmaj st. xxmaj james 's . xxbos xxfld 1 xxmaj but ... but ... aboard this</td>\n",
              "    </tr>\n",
              "    <tr>\n",
              "      <td>7</td>\n",
              "      <td>trim figure in grey xxunk that was xxunk the companion . xxfld 2 xxmaj he has only one eye . xxbos xxfld 1 xxmaj out of the tail of his single eye he had xxunk a trim figure in grey xxunk that was xxunk the companion . xxfld 2 xxmaj he only has a left eye . xxbos xxfld 1 xxmaj no . xxmaj blood closed his telescope . xxfld</td>\n",
              "    </tr>\n",
              "    <tr>\n",
              "      <td>8</td>\n",
              "      <td>the xxmaj south xxmaj african xxmaj area . xxbos xxfld 1 xxmaj behind the xxmaj south xxmaj american area you 'll find the xxmaj perfume xxmaj factory , where you can create your own personal xxunk . xxfld 2 ` xxmaj the xxmaj perfume xxmaj factory is in front of the xxmaj south xxmaj african area . xxbos xxfld 1 xxmaj hopes were raised , and also xxunk , over</td>\n",
              "    </tr>\n",
              "    <tr>\n",
              "      <td>9</td>\n",
              "      <td>xxmaj national xxmaj historical xxmaj museum has a lot of artifacts from post - xxmaj classical times . xxbos xxfld 1 xxmaj nearer to xxmaj syntagma , in xxmaj koloktroni xxmaj square , is the xxmaj national xxmaj historical xxmaj museum with a collection of artifacts dating from post - xxmaj classical times . xxfld 2 xxmaj the xxmaj national xxmaj historical xxmaj museum has some old farm equipment .</td>\n",
              "    </tr>\n",
              "  </tbody>\n",
              "</table>"
            ],
            "text/plain": [
              "<IPython.core.display.HTML object>"
            ]
          },
          "metadata": {
            "tags": []
          }
        }
      ]
    },
    {
      "cell_type": "code",
      "metadata": {
        "colab": {
          "base_uri": "https://localhost:8080/",
          "height": 422
        },
        "id": "YGJbDARieGcc",
        "outputId": "7924a571-9849-41cd-e184-7b295a4ab9af"
      },
      "source": [
        "learn = language_model_learner(data_lm, AWD_LSTM, drop_mult=0.5)\n",
        "#learn = language_model_learner(data_lm, pretrained_model=AWD_LSTM, drop_mult=0.1)\n",
        "learn.lr_find()\n",
        "learn.recorder.plot(skip_end=12)"
      ],
      "execution_count": 20,
      "outputs": [
        {
          "output_type": "stream",
          "text": [
            "Downloading https://s3.amazonaws.com/fast-ai-modelzoo/wt103-fwd.tgz\n"
          ],
          "name": "stdout"
        },
        {
          "output_type": "display_data",
          "data": {
            "text/html": [
              ""
            ],
            "text/plain": [
              "<IPython.core.display.HTML object>"
            ]
          },
          "metadata": {
            "tags": []
          }
        },
        {
          "output_type": "display_data",
          "data": {
            "text/html": [
              "\n",
              "    <div>\n",
              "        <style>\n",
              "            /* Turns off some styling */\n",
              "            progress {\n",
              "                /* gets rid of default border in Firefox and Opera. */\n",
              "                border: none;\n",
              "                /* Needs to be in here for Safari polyfill so background images work as expected. */\n",
              "                background-size: auto;\n",
              "            }\n",
              "            .progress-bar-interrupted, .progress-bar-interrupted::-webkit-progress-bar {\n",
              "                background: #F44336;\n",
              "            }\n",
              "        </style>\n",
              "      <progress value='1' class='' max='2' style='width:300px; height:20px; vertical-align: middle;'></progress>\n",
              "      50.00% [1/2 04:34<04:34]\n",
              "    </div>\n",
              "    \n",
              "<table border=\"1\" class=\"dataframe\">\n",
              "  <thead>\n",
              "    <tr style=\"text-align: left;\">\n",
              "      <th>epoch</th>\n",
              "      <th>train_loss</th>\n",
              "      <th>valid_loss</th>\n",
              "      <th>accuracy</th>\n",
              "      <th>time</th>\n",
              "    </tr>\n",
              "  </thead>\n",
              "  <tbody>\n",
              "    <tr>\n",
              "      <td>0</td>\n",
              "      <td>5.710882</td>\n",
              "      <td>#na#</td>\n",
              "      <td>04:34</td>\n",
              "    </tr>\n",
              "  </tbody>\n",
              "</table><p>\n",
              "\n",
              "    <div>\n",
              "        <style>\n",
              "            /* Turns off some styling */\n",
              "            progress {\n",
              "                /* gets rid of default border in Firefox and Opera. */\n",
              "                border: none;\n",
              "                /* Needs to be in here for Safari polyfill so background images work as expected. */\n",
              "                background-size: auto;\n",
              "            }\n",
              "            .progress-bar-interrupted, .progress-bar-interrupted::-webkit-progress-bar {\n",
              "                background: #F44336;\n",
              "            }\n",
              "        </style>\n",
              "      <progress value='44' class='' max='55' style='width:300px; height:20px; vertical-align: middle;'></progress>\n",
              "      80.00% [44/55 04:57<01:14 9.8171]\n",
              "    </div>\n",
              "    "
            ],
            "text/plain": [
              "<IPython.core.display.HTML object>"
            ]
          },
          "metadata": {
            "tags": []
          }
        },
        {
          "output_type": "stream",
          "text": [
            "LR Finder is complete, type {learner_name}.recorder.plot() to see the graph.\n"
          ],
          "name": "stdout"
        },
        {
          "output_type": "display_data",
          "data": {
            "image/png": "[encoded data removed]",
            "text/plain": [
              "<Figure size 432x288 with 1 Axes>"
            ]
          },
          "metadata": {
            "tags": [],
            "needs_background": "light"
          }
        }
      ]
    },
    {
      "cell_type": "code",
      "metadata": {
        "colab": {
          "base_uri": "https://localhost:8080/",
          "height": 80
        },
        "id": "9P1QynotfDER",
        "outputId": "9ac58dc5-b417-4733-c348-1fc15a6ccaf6"
      },
      "source": [
        "learn.fit_one_cycle(1, 4e-2) # was 10 "
      ],
      "execution_count": 21,
      "outputs": [
        {
          "output_type": "display_data",
          "data": {
            "text/html": [
              "<table border=\"1\" class=\"dataframe\">\n",
              "  <thead>\n",
              "    <tr style=\"text-align: left;\">\n",
              "      <th>epoch</th>\n",
              "      <th>train_loss</th>\n",
              "      <th>valid_loss</th>\n",
              "      <th>accuracy</th>\n",
              "      <th>time</th>\n",
              "    </tr>\n",
              "  </thead>\n",
              "  <tbody>\n",
              "    <tr>\n",
              "      <td>0</td>\n",
              "      <td>3.826046</td>\n",
              "      <td>3.016315</td>\n",
              "      <td>0.417698</td>\n",
              "      <td>05:16</td>\n",
              "    </tr>\n",
              "  </tbody>\n",
              "</table>"
            ],
            "text/plain": [
              "<IPython.core.display.HTML object>"
            ]
          },
          "metadata": {
            "tags": []
          }
        }
      ]
    },
    {
      "cell_type": "code",
      "metadata": {
        "colab": {
          "base_uri": "https://localhost:8080/",
          "height": 279
        },
        "id": "gBuSuEjGiEyf",
        "outputId": "ca7a947a-b90d-426b-c34e-716e9acacaf1"
      },
      "source": [
        "learn.recorder.plot_losses()"
      ],
      "execution_count": 22,
      "outputs": [
        {
          "output_type": "display_data",
          "data": {
            "image/png": "[encoded data removed]",
            "text/plain": [
              "<Figure size 432x288 with 1 Axes>"
            ]
          },
          "metadata": {
            "tags": [],
            "needs_background": "light"
          }
        }
      ]
    },
    {
      "cell_type": "code",
      "metadata": {
        "colab": {
          "base_uri": "https://localhost:8080/",
          "height": 289
        },
        "id": "FmOZG9MCjTyM",
        "outputId": "7088eb21-33fc-4bd9-ed47-ec5a319d90f0"
      },
      "source": [
        "# first amount of words (here 10), the next 10 target words (actual) and the ones predicted.\n",
        "learn.show_results(max_len = 10)"
      ],
      "execution_count": 23,
      "outputs": [
        {
          "output_type": "display_data",
          "data": {
            "text/html": [
              "<table border=\"1\" class=\"dataframe\">\n",
              "  <thead>\n",
              "    <tr style=\"text-align: right;\">\n",
              "      <th>text</th>\n",
              "      <th>target</th>\n",
              "      <th>pred</th>\n",
              "    </tr>\n",
              "  </thead>\n",
              "  <tbody>\n",
              "    <tr>\n",
              "      <td>xxbos xxfld 1 xxmaj about him in the waist ,</td>\n",
              "      <td>where all last night had been so peaceful , there</td>\n",
              "      <td>he he the xxmaj 's been , xxunk , the</td>\n",
              "    </tr>\n",
              "    <tr>\n",
              "      <td>political justice . xxfld 2 xxmaj our nation is built</td>\n",
              "      <td>on the grounds of social and political justice . xxbos</td>\n",
              "      <td>by the same of the equality economic rights . xxbos</td>\n",
              "    </tr>\n",
              "    <tr>\n",
              "      <td>. xxfld 2 i told him i didn ' t</td>\n",
              "      <td>want to hear anything else . xxbos xxfld 1 xxmaj</td>\n",
              "      <td>know to be him . . xxbos xxfld 1 xxmaj</td>\n",
              "    </tr>\n",
              "    <tr>\n",
              "      <td>xxunk voice xxfld 2 i know that voice xxbos xxfld</td>\n",
              "      <td>1 well i don ' t have kids so it</td>\n",
              "      <td>1 xxmaj i have ' t know to . i</td>\n",
              "    </tr>\n",
              "    <tr>\n",
              "      <td>xxunk windows . xxfld 2 xxmaj the church looks like</td>\n",
              "      <td>xxmaj xxunk style . xxbos xxfld 1 xxmaj the xxunk</td>\n",
              "      <td>a the xxmaj . xxbos xxfld 1 xxmaj the xxmaj</td>\n",
              "    </tr>\n",
              "  </tbody>\n",
              "</table>"
            ],
            "text/plain": [
              "<IPython.core.display.HTML object>"
            ]
          },
          "metadata": {
            "tags": []
          }
        }
      ]
    },
    {
      "cell_type": "code",
      "metadata": {
        "id": "Whx4QEkKjYkU"
      },
      "source": [
        "learn.save('mini_train_lm')\n",
        "learn.save_encoder('mini_train_encoder')"
      ],
      "execution_count": 24,
      "outputs": []
    },
    {
      "cell_type": "code",
      "metadata": {
        "colab": {
          "base_uri": "https://localhost:8080/",
          "height": 122
        },
        "id": "z7V4udqEjb8d",
        "outputId": "7c686b62-2b31-476b-c909-b7d4b8274089"
      },
      "source": [
        "data_clas = (TextList.from_csv(path, 'xnli_text.csv', cols=['sentence1_tokenized', 'sentence2_tokenized'],processor = processor, vocab=data_lm.vocab)\n",
        "                   .split_from_df(col='is_valid')\n",
        "                   .label_from_df(cols='gold_label')\n",
        "                   .databunch(bs=42))"
      ],
      "execution_count": 25,
      "outputs": [
        {
          "output_type": "display_data",
          "data": {
            "text/html": [
              ""
            ],
            "text/plain": [
              "<IPython.core.display.HTML object>"
            ]
          },
          "metadata": {
            "tags": []
          }
        },
        {
          "output_type": "stream",
          "text": [
            "/usr/local/lib/python3.7/dist-packages/fastai/core.py:302: VisibleDeprecationWarning: Creating an ndarray from ragged nested sequences (which is a list-or-tuple of lists-or-tuples-or ndarrays with different lengths or shapes) is deprecated. If you meant to do this, you must specify 'dtype=object' when creating the ndarray\n",
            "  return np.array(a, dtype=dtype, **kwargs)\n"
          ],
          "name": "stderr"
        },
        {
          "output_type": "display_data",
          "data": {
            "text/html": [
              ""
            ],
            "text/plain": [
              "<IPython.core.display.HTML object>"
            ]
          },
          "metadata": {
            "tags": []
          }
        },
        {
          "output_type": "stream",
          "text": [
            "/usr/local/lib/python3.7/dist-packages/numpy/core/_asarray.py:83: VisibleDeprecationWarning: Creating an ndarray from ragged nested sequences (which is a list-or-tuple of lists-or-tuples-or ndarrays with different lengths or shapes) is deprecated. If you meant to do this, you must specify 'dtype=object' when creating the ndarray\n",
            "  return array(a, dtype, copy=False, order=order)\n",
            "<string>:6: VisibleDeprecationWarning: Creating an ndarray from ragged nested sequences (which is a list-or-tuple of lists-or-tuples-or ndarrays with different lengths or shapes) is deprecated. If you meant to do this, you must specify 'dtype=object' when creating the ndarray\n"
          ],
          "name": "stderr"
        }
      ]
    },
    {
      "cell_type": "code",
      "metadata": {
        "colab": {
          "base_uri": "https://localhost:8080/",
          "height": 496
        },
        "id": "6l5ASNopjnaH",
        "outputId": "58e24412-4dd2-4d49-badc-646ec7b473c2"
      },
      "source": [
        "data_clas.show_batch()"
      ],
      "execution_count": 26,
      "outputs": [
        {
          "output_type": "stream",
          "text": [
            "/usr/local/lib/python3.7/dist-packages/numpy/core/_asarray.py:83: VisibleDeprecationWarning: Creating an ndarray from ragged nested sequences (which is a list-or-tuple of lists-or-tuples-or ndarrays with different lengths or shapes) is deprecated. If you meant to do this, you must specify 'dtype=object' when creating the ndarray\n",
            "  return array(a, dtype, copy=False, order=order)\n",
            "<string>:6: VisibleDeprecationWarning: Creating an ndarray from ragged nested sequences (which is a list-or-tuple of lists-or-tuples-or ndarrays with different lengths or shapes) is deprecated. If you meant to do this, you must specify 'dtype=object' when creating the ndarray\n"
          ],
          "name": "stderr"
        },
        {
          "output_type": "display_data",
          "data": {
            "text/html": [
              "<table border=\"1\" class=\"dataframe\">\n",
              "  <thead>\n",
              "    <tr style=\"text-align: right;\">\n",
              "      <th>text</th>\n",
              "      <th>target</th>\n",
              "    </tr>\n",
              "  </thead>\n",
              "  <tbody>\n",
              "    <tr>\n",
              "      <td>xxbos xxfld 1 xxmaj between 6 : 45 and 7 : 40 , xxmaj atta and xxmaj omari , along with xxmaj xxunk al xxmaj xxunk , xxmaj wail al xxmaj shehri , and xxmaj xxunk al xxmaj shehri , checked in and boarded xxmaj american xxmaj airlines xxmaj flight 11 , bound for xxmaj los xxmaj angeles . xxfld 2 xxmaj they attempted to board the flight but xxmaj</td>\n",
              "      <td>contradiction</td>\n",
              "    </tr>\n",
              "    <tr>\n",
              "      <td>xxbos xxfld 1 xxmaj don ' t you , by xxmaj god ! xxmaj and what else do you call this ? xxmaj but as xxmaj his xxmaj majesty 's xxmaj deputy - xxmaj governor of xxmaj jamaica , i 'll take leave to correct your mistake in my own way . xxfld 2 xxmaj one man told the other that he had done his work perfectly and that any</td>\n",
              "      <td>contradiction</td>\n",
              "    </tr>\n",
              "    <tr>\n",
              "      <td>xxbos xxfld 1 a renowned proponent of xxmaj mexican xxmaj spanish folklore in the xxmaj southwest and xxmaj california was xxmaj charles xxup f. xxmaj lummis ( 1859 - 1928 ) , a self - taught photographer , ethnologist , musicologist , journalist , and the founder of the xxmaj southwest xxmaj museum in xxmaj los xxmaj angeles . xxfld 2 xxmaj charles xxup f. xxmaj lummis was a photographer</td>\n",
              "      <td>entailment</td>\n",
              "    </tr>\n",
              "    <tr>\n",
              "      <td>xxbos xxfld 1 xxmaj thus , on average , xxmaj webster 's xxmaj xxunk xxmaj new xxmaj xxunk and the xxmaj random xxmaj house xxmaj webster 's xxmaj college contain at least fifteen per cent more information per entry than xxmaj american xxmaj heritage and xxmaj webster 's xxmaj new xxmaj world . xxfld 2 xxmaj webster 's xxmaj college is missing way more information than the other books .</td>\n",
              "      <td>contradiction</td>\n",
              "    </tr>\n",
              "    <tr>\n",
              "      <td>xxbos xxfld 1 a renowned proponent of xxmaj mexican xxmaj spanish folklore in the xxmaj southwest and xxmaj california was xxmaj charles xxup f. xxmaj lummis ( 1859 - 1928 ) , a self - taught photographer , ethnologist , musicologist , journalist , and the founder of the xxmaj southwest xxmaj museum in xxmaj los xxmaj angeles . xxfld 2 xxmaj charles xxup f. xxmaj lummis was funny .</td>\n",
              "      <td>neutral</td>\n",
              "    </tr>\n",
              "  </tbody>\n",
              "</table>"
            ],
            "text/plain": [
              "<IPython.core.display.HTML object>"
            ]
          },
          "metadata": {
            "tags": []
          }
        }
      ]
    },
    {
      "cell_type": "code",
      "metadata": {
        "colab": {
          "base_uri": "https://localhost:8080/"
        },
        "id": "Lq277I2ykSRF",
        "outputId": "e8ca9a33-559d-4cbe-f104-c654e0b39fea"
      },
      "source": [
        "learn_clas = text_classifier_learner(data_clas,AWD_LSTM, drop_mult=0.5)\n",
        "# learn = language_model_learner(data_lm, AWD_LSTM, drop_mult=0.5)\n",
        "\n",
        "learn_clas.load_encoder('mini_train_encoder')"
      ],
      "execution_count": 28,
      "outputs": [
        {
          "output_type": "execute_result",
          "data": {
            "text/plain": [
              "RNNLearner(data=TextClasDataBunch;\n",
              "\n",
              "Train: LabelList (2490 items)\n",
              "x: TextList\n",
              "xxbos xxfld 1 xxmaj and he said , xxmaj mama , i ' m home . xxfld 2 xxmaj he called his mom as soon as the school bus dropped him off .,xxbos xxfld 1 xxmaj and he said , xxmaj mama , i ' m home . xxfld 2 xxmaj he didn ' t say a word .,xxbos xxfld 1 xxmaj and he said , xxmaj mama , i ' m home . xxfld 2 xxmaj he told his mom he had gotten home .,xxbos xxfld 1 i didn ' t know what i was going for or anything , so was to report to a designated place in xxmaj washington . xxfld 2 i have never been to xxmaj washington so when i was assigned there i got lost trying to find the place .,xxbos xxfld 1 i didn ' t know what i was going for or anything , so was to report to a designated place in xxmaj washington . xxfld 2 i knew exactly what i needed to do as i xxunk to xxmaj washington .\n",
              "y: CategoryList\n",
              "neutral,contradiction,entailment,neutral,contradiction\n",
              "Path: data/xnli_en;\n",
              "\n",
              "Valid: LabelList (5010 items)\n",
              "x: TextList\n",
              "xxbos xxfld 1 xxmaj well , i wasn ' t even thinking about that , but i was so frustrated , and , i ended up talking to him again . xxfld 2 i have nt spoken to him again .,xxbos xxfld 1 xxmaj well , i wasn ' t even thinking about that , but i was so frustrated , and , i ended up talking to him again . xxfld 2 i was so upset that i just started talking to him again .,xxbos xxfld 1 xxmaj well , i wasn ' t even thinking about that , but i was so frustrated , and , i ended up talking to him again . xxfld 2 xxmaj we had a great talk .,xxbos xxfld 1 xxmaj and i thought that was a privilege , and it 's still , it 's still , i was the only nine two - two xxmaj ex - o which was my xxup affc xxmaj air xxmaj force xxmaj career field . xxfld 2 i was not aware that i was not the only person to be at the field that day .,xxbos xxfld 1 xxmaj and i thought that was a privilege , and it 's still , it 's still , i was the only nine two - two xxmaj ex - o which was my xxup affc xxmaj air xxmaj force xxmaj career field . xxfld 2 i was under the impression that i was the only one with that number at the xxup affc xxmaj air xxmaj force xxmaj career field .\n",
              "y: CategoryList\n",
              "contradiction,entailment,neutral,neutral,entailment\n",
              "Path: data/xnli_en;\n",
              "\n",
              "Test: None, model=SequentialRNN(\n",
              "  (0): MultiBatchEncoder(\n",
              "    (module): AWD_LSTM(\n",
              "      (encoder): Embedding(7536, 400, padding_idx=1)\n",
              "      (encoder_dp): EmbeddingDropout(\n",
              "        (emb): Embedding(7536, 400, padding_idx=1)\n",
              "      )\n",
              "      (rnns): ModuleList(\n",
              "        (0): WeightDropout(\n",
              "          (module): LSTM(400, 1152, batch_first=True)\n",
              "        )\n",
              "        (1): WeightDropout(\n",
              "          (module): LSTM(1152, 1152, batch_first=True)\n",
              "        )\n",
              "        (2): WeightDropout(\n",
              "          (module): LSTM(1152, 400, batch_first=True)\n",
              "        )\n",
              "      )\n",
              "      (input_dp): RNNDropout()\n",
              "      (hidden_dps): ModuleList(\n",
              "        (0): RNNDropout()\n",
              "        (1): RNNDropout()\n",
              "        (2): RNNDropout()\n",
              "      )\n",
              "    )\n",
              "  )\n",
              "  (1): PoolingLinearClassifier(\n",
              "    (layers): Sequential(\n",
              "      (0): BatchNorm1d(1200, eps=1e-05, momentum=0.1, affine=True, track_running_stats=True)\n",
              "      (1): Dropout(p=0.2, inplace=False)\n",
              "      (2): Linear(in_features=1200, out_features=50, bias=True)\n",
              "      (3): ReLU(inplace=True)\n",
              "      (4): BatchNorm1d(50, eps=1e-05, momentum=0.1, affine=True, track_running_stats=True)\n",
              "      (5): Dropout(p=0.1, inplace=False)\n",
              "      (6): Linear(in_features=50, out_features=3, bias=True)\n",
              "    )\n",
              "  )\n",
              "), opt_func=functools.partial(<class 'torch.optim.adam.Adam'>, betas=(0.9, 0.99)), loss_func=FlattenedLoss of CrossEntropyLoss(), metrics=[<function accuracy at 0x7fabf206ba70>], true_wd=True, bn_wd=True, wd=0.01, train_bn=True, path=PosixPath('data/xnli_en'), model_dir='models', callback_fns=[functools.partial(<class 'fastai.basic_train.Recorder'>, add_time=True, silent=False)], callbacks=[RNNTrainer\n",
              "learn: ...\n",
              "alpha: 2.0\n",
              "beta: 1.0], layer_groups=[Sequential(\n",
              "  (0): Embedding(7536, 400, padding_idx=1)\n",
              "  (1): EmbeddingDropout(\n",
              "    (emb): Embedding(7536, 400, padding_idx=1)\n",
              "  )\n",
              "), Sequential(\n",
              "  (0): WeightDropout(\n",
              "    (module): LSTM(400, 1152, batch_first=True)\n",
              "  )\n",
              "  (1): RNNDropout()\n",
              "), Sequential(\n",
              "  (0): WeightDropout(\n",
              "    (module): LSTM(1152, 1152, batch_first=True)\n",
              "  )\n",
              "  (1): RNNDropout()\n",
              "), Sequential(\n",
              "  (0): WeightDropout(\n",
              "    (module): LSTM(1152, 400, batch_first=True)\n",
              "  )\n",
              "  (1): RNNDropout()\n",
              "), Sequential(\n",
              "  (0): PoolingLinearClassifier(\n",
              "    (layers): Sequential(\n",
              "      (0): BatchNorm1d(1200, eps=1e-05, momentum=0.1, affine=True, track_running_stats=True)\n",
              "      (1): Dropout(p=0.2, inplace=False)\n",
              "      (2): Linear(in_features=1200, out_features=50, bias=True)\n",
              "      (3): ReLU(inplace=True)\n",
              "      (4): BatchNorm1d(50, eps=1e-05, momentum=0.1, affine=True, track_running_stats=True)\n",
              "      (5): Dropout(p=0.1, inplace=False)\n",
              "      (6): Linear(in_features=50, out_features=3, bias=True)\n",
              "    )\n",
              "  )\n",
              ")], add_time=True, silent=False)"
            ]
          },
          "metadata": {
            "tags": []
          },
          "execution_count": 28
        }
      ]
    },
    {
      "cell_type": "code",
      "metadata": {
        "colab": {
          "base_uri": "https://localhost:8080/",
          "height": 527
        },
        "id": "29LuTGxRkyp7",
        "outputId": "ea6323c0-d0e5-447a-b16e-77a3c82bbb8e"
      },
      "source": [
        "learn_clas.lr_find() # start_lr=1e-15, end_lr=1e2\n",
        "learn_clas.recorder.plot() # skip_end=4"
      ],
      "execution_count": 29,
      "outputs": [
        {
          "output_type": "display_data",
          "data": {
            "text/html": [
              "\n",
              "    <div>\n",
              "        <style>\n",
              "            /* Turns off some styling */\n",
              "            progress {\n",
              "                /* gets rid of default border in Firefox and Opera. */\n",
              "                border: none;\n",
              "                /* Needs to be in here for Safari polyfill so background images work as expected. */\n",
              "                background-size: auto;\n",
              "            }\n",
              "            .progress-bar-interrupted, .progress-bar-interrupted::-webkit-progress-bar {\n",
              "                background: #F44336;\n",
              "            }\n",
              "        </style>\n",
              "      <progress value='1' class='' max='2' style='width:300px; height:20px; vertical-align: middle;'></progress>\n",
              "      50.00% [1/2 01:11<01:11]\n",
              "    </div>\n",
              "    \n",
              "<table border=\"1\" class=\"dataframe\">\n",
              "  <thead>\n",
              "    <tr style=\"text-align: left;\">\n",
              "      <th>epoch</th>\n",
              "      <th>train_loss</th>\n",
              "      <th>valid_loss</th>\n",
              "      <th>accuracy</th>\n",
              "      <th>time</th>\n",
              "    </tr>\n",
              "  </thead>\n",
              "  <tbody>\n",
              "    <tr>\n",
              "      <td>0</td>\n",
              "      <td>1.207791</td>\n",
              "      <td>#na#</td>\n",
              "      <td>01:11</td>\n",
              "    </tr>\n",
              "  </tbody>\n",
              "</table><p>\n",
              "\n",
              "    <div>\n",
              "        <style>\n",
              "            /* Turns off some styling */\n",
              "            progress {\n",
              "                /* gets rid of default border in Firefox and Opera. */\n",
              "                border: none;\n",
              "                /* Needs to be in here for Safari polyfill so background images work as expected. */\n",
              "                background-size: auto;\n",
              "            }\n",
              "            .progress-bar-interrupted, .progress-bar-interrupted::-webkit-progress-bar {\n",
              "                background: #F44336;\n",
              "            }\n",
              "        </style>\n",
              "      <progress value='34' class='' max='59' style='width:300px; height:20px; vertical-align: middle;'></progress>\n",
              "      57.63% [34/59 00:37<00:27 3.3239]\n",
              "    </div>\n",
              "    "
            ],
            "text/plain": [
              "<IPython.core.display.HTML object>"
            ]
          },
          "metadata": {
            "tags": []
          }
        },
        {
          "output_type": "stream",
          "text": [
            "/usr/local/lib/python3.7/dist-packages/numpy/core/_asarray.py:83: VisibleDeprecationWarning: Creating an ndarray from ragged nested sequences (which is a list-or-tuple of lists-or-tuples-or ndarrays with different lengths or shapes) is deprecated. If you meant to do this, you must specify 'dtype=object' when creating the ndarray\n",
            "  return array(a, dtype, copy=False, order=order)\n",
            "<string>:6: VisibleDeprecationWarning: Creating an ndarray from ragged nested sequences (which is a list-or-tuple of lists-or-tuples-or ndarrays with different lengths or shapes) is deprecated. If you meant to do this, you must specify 'dtype=object' when creating the ndarray\n",
            "/usr/local/lib/python3.7/dist-packages/numpy/core/_asarray.py:83: VisibleDeprecationWarning: Creating an ndarray from ragged nested sequences (which is a list-or-tuple of lists-or-tuples-or ndarrays with different lengths or shapes) is deprecated. If you meant to do this, you must specify 'dtype=object' when creating the ndarray\n",
            "  return array(a, dtype, copy=False, order=order)\n",
            "<string>:6: VisibleDeprecationWarning: Creating an ndarray from ragged nested sequences (which is a list-or-tuple of lists-or-tuples-or ndarrays with different lengths or shapes) is deprecated. If you meant to do this, you must specify 'dtype=object' when creating the ndarray\n"
          ],
          "name": "stderr"
        },
        {
          "output_type": "stream",
          "text": [
            "LR Finder is complete, type {learner_name}.recorder.plot() to see the graph.\n"
          ],
          "name": "stdout"
        },
        {
          "output_type": "display_data",
          "data": {
            "image/png": "[encoded data removed]",
            "text/plain": [
              "<Figure size 432x288 with 1 Axes>"
            ]
          },
          "metadata": {
            "tags": [],
            "needs_background": "light"
          }
        }
      ]
    },
    {
      "cell_type": "code",
      "metadata": {
        "colab": {
          "base_uri": "https://localhost:8080/",
          "height": 397
        },
        "id": "Uoh0tgp_k2r6",
        "outputId": "f8e7d751-e921-43bd-9539-350aa61fb529"
      },
      "source": [
        "learn_clas.fit_one_cycle(4, 4e-3)"
      ],
      "execution_count": 30,
      "outputs": [
        {
          "output_type": "display_data",
          "data": {
            "text/html": [
              "<table border=\"1\" class=\"dataframe\">\n",
              "  <thead>\n",
              "    <tr style=\"text-align: left;\">\n",
              "      <th>epoch</th>\n",
              "      <th>train_loss</th>\n",
              "      <th>valid_loss</th>\n",
              "      <th>accuracy</th>\n",
              "      <th>time</th>\n",
              "    </tr>\n",
              "  </thead>\n",
              "  <tbody>\n",
              "    <tr>\n",
              "      <td>0</td>\n",
              "      <td>1.200092</td>\n",
              "      <td>1.110935</td>\n",
              "      <td>0.379042</td>\n",
              "      <td>03:03</td>\n",
              "    </tr>\n",
              "    <tr>\n",
              "      <td>1</td>\n",
              "      <td>1.129202</td>\n",
              "      <td>1.078464</td>\n",
              "      <td>0.396008</td>\n",
              "      <td>03:06</td>\n",
              "    </tr>\n",
              "    <tr>\n",
              "      <td>2</td>\n",
              "      <td>1.098448</td>\n",
              "      <td>1.067889</td>\n",
              "      <td>0.419760</td>\n",
              "      <td>03:13</td>\n",
              "    </tr>\n",
              "    <tr>\n",
              "      <td>3</td>\n",
              "      <td>1.082921</td>\n",
              "      <td>1.066270</td>\n",
              "      <td>0.412176</td>\n",
              "      <td>03:08</td>\n",
              "    </tr>\n",
              "  </tbody>\n",
              "</table>"
            ],
            "text/plain": [
              "<IPython.core.display.HTML object>"
            ]
          },
          "metadata": {
            "tags": []
          }
        },
        {
          "output_type": "stream",
          "text": [
            "/usr/local/lib/python3.7/dist-packages/numpy/core/_asarray.py:83: VisibleDeprecationWarning: Creating an ndarray from ragged nested sequences (which is a list-or-tuple of lists-or-tuples-or ndarrays with different lengths or shapes) is deprecated. If you meant to do this, you must specify 'dtype=object' when creating the ndarray\n",
            "  return array(a, dtype, copy=False, order=order)\n",
            "<string>:6: VisibleDeprecationWarning: Creating an ndarray from ragged nested sequences (which is a list-or-tuple of lists-or-tuples-or ndarrays with different lengths or shapes) is deprecated. If you meant to do this, you must specify 'dtype=object' when creating the ndarray\n",
            "/usr/local/lib/python3.7/dist-packages/numpy/core/_asarray.py:83: VisibleDeprecationWarning: Creating an ndarray from ragged nested sequences (which is a list-or-tuple of lists-or-tuples-or ndarrays with different lengths or shapes) is deprecated. If you meant to do this, you must specify 'dtype=object' when creating the ndarray\n",
            "  return array(a, dtype, copy=False, order=order)\n",
            "<string>:6: VisibleDeprecationWarning: Creating an ndarray from ragged nested sequences (which is a list-or-tuple of lists-or-tuples-or ndarrays with different lengths or shapes) is deprecated. If you meant to do this, you must specify 'dtype=object' when creating the ndarray\n",
            "/usr/local/lib/python3.7/dist-packages/numpy/core/_asarray.py:83: VisibleDeprecationWarning: Creating an ndarray from ragged nested sequences (which is a list-or-tuple of lists-or-tuples-or ndarrays with different lengths or shapes) is deprecated. If you meant to do this, you must specify 'dtype=object' when creating the ndarray\n",
            "  return array(a, dtype, copy=False, order=order)\n",
            "<string>:6: VisibleDeprecationWarning: Creating an ndarray from ragged nested sequences (which is a list-or-tuple of lists-or-tuples-or ndarrays with different lengths or shapes) is deprecated. If you meant to do this, you must specify 'dtype=object' when creating the ndarray\n",
            "/usr/local/lib/python3.7/dist-packages/numpy/core/_asarray.py:83: VisibleDeprecationWarning: Creating an ndarray from ragged nested sequences (which is a list-or-tuple of lists-or-tuples-or ndarrays with different lengths or shapes) is deprecated. If you meant to do this, you must specify 'dtype=object' when creating the ndarray\n",
            "  return array(a, dtype, copy=False, order=order)\n",
            "<string>:6: VisibleDeprecationWarning: Creating an ndarray from ragged nested sequences (which is a list-or-tuple of lists-or-tuples-or ndarrays with different lengths or shapes) is deprecated. If you meant to do this, you must specify 'dtype=object' when creating the ndarray\n"
          ],
          "name": "stderr"
        }
      ]
    },
    {
      "cell_type": "code",
      "metadata": {
        "colab": {
          "base_uri": "https://localhost:8080/",
          "height": 459
        },
        "id": "ni8SpHSTlSf4",
        "outputId": "919e13b9-e4ab-495e-d1e3-28b32c665ad3"
      },
      "source": [
        "learn_clas.show_results()"
      ],
      "execution_count": 31,
      "outputs": [
        {
          "output_type": "display_data",
          "data": {
            "text/html": [
              "<table border=\"1\" class=\"dataframe\">\n",
              "  <thead>\n",
              "    <tr style=\"text-align: right;\">\n",
              "      <th>text</th>\n",
              "      <th>target</th>\n",
              "      <th>prediction</th>\n",
              "    </tr>\n",
              "  </thead>\n",
              "  <tbody>\n",
              "    <tr>\n",
              "      <td>xxbos xxfld 1 xxmaj in 1972 , xxmaj phillip xxmaj morris , xxmaj inc . ' s xxmaj miller xxmaj brewing xxmaj co. acquired the xxmaj lite beer label in a buyout of xxmaj meister xxmaj brau xxmaj inc . xxfld 2 xxmaj phillip xxmaj morris , xxmaj inc . ' s xxmaj miller xxmaj brewing xxmaj co. decided it didn ' t want the xxmaj lite beer label as</td>\n",
              "      <td>contradiction</td>\n",
              "      <td>contradiction</td>\n",
              "    </tr>\n",
              "    <tr>\n",
              "      <td>xxbos xxfld 1 xxmaj deborah xxmaj cameron and xxmaj deborah xxmaj hills ( ` xxmaj listening in ' : xxunk relationships between xxunk and xxunk on radio phone - in programmes ) have studied the xxunk of xxup lbc xxmaj radio , xxmaj london 's all - talk station , which i have listened to with interest . xxfld 2 xxmaj deborah xxmaj cameron and xxmaj deborah xxmaj hills have</td>\n",
              "      <td>neutral</td>\n",
              "      <td>contradiction</td>\n",
              "    </tr>\n",
              "    <tr>\n",
              "      <td>xxbos xxfld 1 xxmaj two days later , xxmaj ahmed al xxmaj ghamdi and xxmaj abdul xxmaj aziz al xxmaj omari , who had been living in xxmaj new xxmaj jersey with xxmaj hazmi and xxmaj hanjour , flew to xxmaj miami - probably xxunk that the four hijacking teams had finally been assigned . xxfld 2 xxmaj ahmed al xxmaj ghamdi , xxmaj abdul xxmaj aziz al xxmaj omari</td>\n",
              "      <td>entailment</td>\n",
              "      <td>entailment</td>\n",
              "    </tr>\n",
              "    <tr>\n",
              "      <td>xxbos xxfld 1 xxmaj two days later , xxmaj ahmed al xxmaj ghamdi and xxmaj abdul xxmaj aziz al xxmaj omari , who had been living in xxmaj new xxmaj jersey with xxmaj hazmi and xxmaj hanjour , flew to xxmaj miami - probably xxunk that the four hijacking teams had finally been assigned . xxfld 2 xxmaj ahmed al xxmaj ghamdi and xxmaj abdul xxmaj aziz al xxmaj omari</td>\n",
              "      <td>contradiction</td>\n",
              "      <td>entailment</td>\n",
              "    </tr>\n",
              "    <tr>\n",
              "      <td>xxbos xxfld 1 xxmaj but if he uses the xxunk , xxunk , and idiom of the standard xxmaj english found in newspapers , books , magazines , and news xxunk , then all we notice about his speech is his accent -- and possibly his xxunk . xxfld 2 xxmaj he is using standard xxmaj english xxunk and vocabulary found in newspapers , books , and magazines in an</td>\n",
              "      <td>neutral</td>\n",
              "      <td>contradiction</td>\n",
              "    </tr>\n",
              "  </tbody>\n",
              "</table>"
            ],
            "text/plain": [
              "<IPython.core.display.HTML object>"
            ]
          },
          "metadata": {
            "tags": []
          }
        }
      ]
    },
    {
      "cell_type": "code",
      "metadata": {
        "colab": {
          "base_uri": "https://localhost:8080/",
          "height": 279
        },
        "id": "AjLmYH_SpeGl",
        "outputId": "6f919e01-6df8-4c30-e8ac-5e9fb408de62"
      },
      "source": [
        "learn_clas.recorder.plot_losses()"
      ],
      "execution_count": 32,
      "outputs": [
        {
          "output_type": "display_data",
          "data": {
            "image/png": "[encoded data removed]",
            "text/plain": [
              "<Figure size 432x288 with 1 Axes>"
            ]
          },
          "metadata": {
            "tags": [],
            "needs_background": "light"
          }
        }
      ]
    },
    {
      "cell_type": "code",
      "metadata": {
        "id": "3Hg6C6jPpzXi"
      },
      "source": [
        "import os \n",
        "learn_clas.save(os.getcwd()+'mini_train_clas')"
      ],
      "execution_count": 39,
      "outputs": []
    },
    {
      "cell_type": "code",
      "metadata": {
        "colab": {
          "base_uri": "https://localhost:8080/"
        },
        "id": "vX7Ljh3Tp5d6",
        "outputId": "5ffaec79-1684-404e-f371-f9afaab0c034"
      },
      "source": [
        "# not the right way to pass 2 cols, need to apply proc\n",
        "learn_clas.predict(\"I went shoping. No, I did not go to the shop.\")\n",
        "#contradiction"
      ],
      "execution_count": 40,
      "outputs": [
        {
          "output_type": "execute_result",
          "data": {
            "text/plain": [
              "(Category tensor(0), tensor(0), tensor([0.4015, 0.3981, 0.2004]))"
            ]
          },
          "metadata": {
            "tags": []
          },
          "execution_count": 40
        }
      ]
    },
    {
      "cell_type": "code",
      "metadata": {
        "colab": {
          "base_uri": "https://localhost:8080/"
        },
        "id": "r7aUQevLqRTl",
        "outputId": "fa5aa11a-429f-4ad8-aefb-a6fb641896d8"
      },
      "source": [
        "learn_clas.predict(\"I went shoping. I did go to shop.\")"
      ],
      "execution_count": 37,
      "outputs": [
        {
          "output_type": "execute_result",
          "data": {
            "text/plain": [
              "(Category tensor(1), tensor(1), tensor([0.2979, 0.4767, 0.2254]))"
            ]
          },
          "metadata": {
            "tags": []
          },
          "execution_count": 37
        }
      ]
    },
    {
      "cell_type": "code",
      "metadata": {
        "colab": {
          "base_uri": "https://localhost:8080/",
          "height": 889
        },
        "id": "gAxn_qMd0PX4",
        "outputId": "4736bafc-9695-4c74-fc20-0903b2487bc4"
      },
      "source": [
        "#train for 10 epochs\n",
        "learn_clas.fit_one_cycle(10, 4e-3)"
      ],
      "execution_count": 41,
      "outputs": [
        {
          "output_type": "display_data",
          "data": {
            "text/html": [
              "<table border=\"1\" class=\"dataframe\">\n",
              "  <thead>\n",
              "    <tr style=\"text-align: left;\">\n",
              "      <th>epoch</th>\n",
              "      <th>train_loss</th>\n",
              "      <th>valid_loss</th>\n",
              "      <th>accuracy</th>\n",
              "      <th>time</th>\n",
              "    </tr>\n",
              "  </thead>\n",
              "  <tbody>\n",
              "    <tr>\n",
              "      <td>0</td>\n",
              "      <td>1.071561</td>\n",
              "      <td>1.059282</td>\n",
              "      <td>0.436128</td>\n",
              "      <td>03:15</td>\n",
              "    </tr>\n",
              "    <tr>\n",
              "      <td>1</td>\n",
              "      <td>1.076197</td>\n",
              "      <td>1.060523</td>\n",
              "      <td>0.441916</td>\n",
              "      <td>03:15</td>\n",
              "    </tr>\n",
              "    <tr>\n",
              "      <td>2</td>\n",
              "      <td>1.087254</td>\n",
              "      <td>1.067921</td>\n",
              "      <td>0.417964</td>\n",
              "      <td>03:15</td>\n",
              "    </tr>\n",
              "    <tr>\n",
              "      <td>3</td>\n",
              "      <td>1.087580</td>\n",
              "      <td>1.058756</td>\n",
              "      <td>0.441916</td>\n",
              "      <td>03:10</td>\n",
              "    </tr>\n",
              "    <tr>\n",
              "      <td>4</td>\n",
              "      <td>1.080825</td>\n",
              "      <td>1.060227</td>\n",
              "      <td>0.427545</td>\n",
              "      <td>03:13</td>\n",
              "    </tr>\n",
              "    <tr>\n",
              "      <td>5</td>\n",
              "      <td>1.075503</td>\n",
              "      <td>1.052803</td>\n",
              "      <td>0.442715</td>\n",
              "      <td>03:15</td>\n",
              "    </tr>\n",
              "    <tr>\n",
              "      <td>6</td>\n",
              "      <td>1.061522</td>\n",
              "      <td>1.047005</td>\n",
              "      <td>0.449301</td>\n",
              "      <td>03:15</td>\n",
              "    </tr>\n",
              "    <tr>\n",
              "      <td>7</td>\n",
              "      <td>1.056694</td>\n",
              "      <td>1.037675</td>\n",
              "      <td>0.457485</td>\n",
              "      <td>03:08</td>\n",
              "    </tr>\n",
              "    <tr>\n",
              "      <td>8</td>\n",
              "      <td>1.048422</td>\n",
              "      <td>1.035503</td>\n",
              "      <td>0.467665</td>\n",
              "      <td>03:12</td>\n",
              "    </tr>\n",
              "    <tr>\n",
              "      <td>9</td>\n",
              "      <td>1.042188</td>\n",
              "      <td>1.034455</td>\n",
              "      <td>0.469062</td>\n",
              "      <td>03:10</td>\n",
              "    </tr>\n",
              "  </tbody>\n",
              "</table>"
            ],
            "text/plain": [
              "<IPython.core.display.HTML object>"
            ]
          },
          "metadata": {
            "tags": []
          }
        },
        {
          "output_type": "stream",
          "text": [
            "/usr/local/lib/python3.7/dist-packages/numpy/core/_asarray.py:83: VisibleDeprecationWarning: Creating an ndarray from ragged nested sequences (which is a list-or-tuple of lists-or-tuples-or ndarrays with different lengths or shapes) is deprecated. If you meant to do this, you must specify 'dtype=object' when creating the ndarray\n",
            "  return array(a, dtype, copy=False, order=order)\n",
            "<string>:6: VisibleDeprecationWarning: Creating an ndarray from ragged nested sequences (which is a list-or-tuple of lists-or-tuples-or ndarrays with different lengths or shapes) is deprecated. If you meant to do this, you must specify 'dtype=object' when creating the ndarray\n",
            "/usr/local/lib/python3.7/dist-packages/numpy/core/_asarray.py:83: VisibleDeprecationWarning: Creating an ndarray from ragged nested sequences (which is a list-or-tuple of lists-or-tuples-or ndarrays with different lengths or shapes) is deprecated. If you meant to do this, you must specify 'dtype=object' when creating the ndarray\n",
            "  return array(a, dtype, copy=False, order=order)\n",
            "<string>:6: VisibleDeprecationWarning: Creating an ndarray from ragged nested sequences (which is a list-or-tuple of lists-or-tuples-or ndarrays with different lengths or shapes) is deprecated. If you meant to do this, you must specify 'dtype=object' when creating the ndarray\n",
            "/usr/local/lib/python3.7/dist-packages/numpy/core/_asarray.py:83: VisibleDeprecationWarning: Creating an ndarray from ragged nested sequences (which is a list-or-tuple of lists-or-tuples-or ndarrays with different lengths or shapes) is deprecated. If you meant to do this, you must specify 'dtype=object' when creating the ndarray\n",
            "  return array(a, dtype, copy=False, order=order)\n",
            "<string>:6: VisibleDeprecationWarning: Creating an ndarray from ragged nested sequences (which is a list-or-tuple of lists-or-tuples-or ndarrays with different lengths or shapes) is deprecated. If you meant to do this, you must specify 'dtype=object' when creating the ndarray\n",
            "/usr/local/lib/python3.7/dist-packages/numpy/core/_asarray.py:83: VisibleDeprecationWarning: Creating an ndarray from ragged nested sequences (which is a list-or-tuple of lists-or-tuples-or ndarrays with different lengths or shapes) is deprecated. If you meant to do this, you must specify 'dtype=object' when creating the ndarray\n",
            "  return array(a, dtype, copy=False, order=order)\n",
            "<string>:6: VisibleDeprecationWarning: Creating an ndarray from ragged nested sequences (which is a list-or-tuple of lists-or-tuples-or ndarrays with different lengths or shapes) is deprecated. If you meant to do this, you must specify 'dtype=object' when creating the ndarray\n",
            "/usr/local/lib/python3.7/dist-packages/numpy/core/_asarray.py:83: VisibleDeprecationWarning: Creating an ndarray from ragged nested sequences (which is a list-or-tuple of lists-or-tuples-or ndarrays with different lengths or shapes) is deprecated. If you meant to do this, you must specify 'dtype=object' when creating the ndarray\n",
            "  return array(a, dtype, copy=False, order=order)\n",
            "<string>:6: VisibleDeprecationWarning: Creating an ndarray from ragged nested sequences (which is a list-or-tuple of lists-or-tuples-or ndarrays with different lengths or shapes) is deprecated. If you meant to do this, you must specify 'dtype=object' when creating the ndarray\n",
            "/usr/local/lib/python3.7/dist-packages/numpy/core/_asarray.py:83: VisibleDeprecationWarning: Creating an ndarray from ragged nested sequences (which is a list-or-tuple of lists-or-tuples-or ndarrays with different lengths or shapes) is deprecated. If you meant to do this, you must specify 'dtype=object' when creating the ndarray\n",
            "  return array(a, dtype, copy=False, order=order)\n",
            "<string>:6: VisibleDeprecationWarning: Creating an ndarray from ragged nested sequences (which is a list-or-tuple of lists-or-tuples-or ndarrays with different lengths or shapes) is deprecated. If you meant to do this, you must specify 'dtype=object' when creating the ndarray\n",
            "/usr/local/lib/python3.7/dist-packages/numpy/core/_asarray.py:83: VisibleDeprecationWarning: Creating an ndarray from ragged nested sequences (which is a list-or-tuple of lists-or-tuples-or ndarrays with different lengths or shapes) is deprecated. If you meant to do this, you must specify 'dtype=object' when creating the ndarray\n",
            "  return array(a, dtype, copy=False, order=order)\n",
            "<string>:6: VisibleDeprecationWarning: Creating an ndarray from ragged nested sequences (which is a list-or-tuple of lists-or-tuples-or ndarrays with different lengths or shapes) is deprecated. If you meant to do this, you must specify 'dtype=object' when creating the ndarray\n",
            "/usr/local/lib/python3.7/dist-packages/numpy/core/_asarray.py:83: VisibleDeprecationWarning: Creating an ndarray from ragged nested sequences (which is a list-or-tuple of lists-or-tuples-or ndarrays with different lengths or shapes) is deprecated. If you meant to do this, you must specify 'dtype=object' when creating the ndarray\n",
            "  return array(a, dtype, copy=False, order=order)\n",
            "<string>:6: VisibleDeprecationWarning: Creating an ndarray from ragged nested sequences (which is a list-or-tuple of lists-or-tuples-or ndarrays with different lengths or shapes) is deprecated. If you meant to do this, you must specify 'dtype=object' when creating the ndarray\n",
            "/usr/local/lib/python3.7/dist-packages/numpy/core/_asarray.py:83: VisibleDeprecationWarning: Creating an ndarray from ragged nested sequences (which is a list-or-tuple of lists-or-tuples-or ndarrays with different lengths or shapes) is deprecated. If you meant to do this, you must specify 'dtype=object' when creating the ndarray\n",
            "  return array(a, dtype, copy=False, order=order)\n",
            "<string>:6: VisibleDeprecationWarning: Creating an ndarray from ragged nested sequences (which is a list-or-tuple of lists-or-tuples-or ndarrays with different lengths or shapes) is deprecated. If you meant to do this, you must specify 'dtype=object' when creating the ndarray\n",
            "/usr/local/lib/python3.7/dist-packages/numpy/core/_asarray.py:83: VisibleDeprecationWarning: Creating an ndarray from ragged nested sequences (which is a list-or-tuple of lists-or-tuples-or ndarrays with different lengths or shapes) is deprecated. If you meant to do this, you must specify 'dtype=object' when creating the ndarray\n",
            "  return array(a, dtype, copy=False, order=order)\n",
            "<string>:6: VisibleDeprecationWarning: Creating an ndarray from ragged nested sequences (which is a list-or-tuple of lists-or-tuples-or ndarrays with different lengths or shapes) is deprecated. If you meant to do this, you must specify 'dtype=object' when creating the ndarray\n"
          ],
          "name": "stderr"
        }
      ]
    }
  ]
}