{
 "cells": [
  {
   "cell_type": "code",
   "execution_count": 2,
   "metadata": {},
   "outputs": [],
   "source": [
    "import torch\n",
    "import torch.nn as nn\n",
    "import torch.nn.functional as F\n",
    "import torch.optim as optim\n",
    "\n",
    "from torchtext.legacy import data\n",
    "from torchtext.legacy import datasets\n",
    "\n",
    "import random\n",
    "import numpy as np\n",
    "\n",
    "import time"
   ]
  },
  {
   "cell_type": "code",
   "execution_count": 3,
   "metadata": {},
   "outputs": [],
   "source": [
    "SEED = 1234\n",
    "\n",
    "random.seed(SEED)\n",
    "np.random.seed(SEED)\n",
    "torch.manual_seed(SEED)\n",
    "torch.backends.cudnn.deterministic = True\n",
    "torch.cuda.empty_cache()"
   ]
  },
  {
   "cell_type": "code",
   "execution_count": 4,
   "metadata": {},
   "outputs": [],
   "source": [
    "TEXT = data.Field(tokenize = 'spacy', lower = True)\n",
    "LABEL = data.LabelField()"
   ]
  },
  {
   "cell_type": "code",
   "execution_count": 5,
   "metadata": {},
   "outputs": [],
   "source": [
    "train_data, valid_data, test_data = datasets.SNLI.splits(TEXT, LABEL)"
   ]
  },
  {
   "cell_type": "code",
   "execution_count": 6,
   "metadata": {},
   "outputs": [
    {
     "name": "stdout",
     "output_type": "stream",
     "text": [
      "Number of training examples: 549367\n",
      "Number of validation examples: 9842\n",
      "Number of testing examples: 9824\n"
     ]
    }
   ],
   "source": [
    "print(f\"Number of training examples: {len(train_data)}\")\n",
    "print(f\"Number of validation examples: {len(valid_data)}\")\n",
    "print(f\"Number of testing examples: {len(test_data)}\")"
   ]
  },
  {
   "cell_type": "code",
   "execution_count": 7,
   "metadata": {},
   "outputs": [
    {
     "name": "stdout",
     "output_type": "stream",
     "text": [
      "{'premise': ['a', 'person', 'on', 'a', 'horse', 'jumps', 'over', 'a', 'broken', 'down', 'airplane', '.'], 'hypothesis': ['a', 'person', 'is', 'training', 'his', 'horse', 'for', 'a', 'competition', '.'], 'label': 'neutral'}\n"
     ]
    }
   ],
   "source": [
    "print(vars(train_data.examples[0]))"
   ]
  },
  {
   "cell_type": "code",
   "execution_count": 8,
   "metadata": {},
   "outputs": [],
   "source": [
    "MIN_FREQ = 2\n",
    "\n",
    "TEXT.build_vocab(train_data, \n",
    "                 min_freq = MIN_FREQ,\n",
    "                 vectors = \"glove.6B.300d\",\n",
    "                 unk_init = torch.Tensor.normal_)\n",
    "\n",
    "LABEL.build_vocab(train_data)"
   ]
  },
  {
   "cell_type": "code",
   "execution_count": 9,
   "metadata": {},
   "outputs": [
    {
     "name": "stdout",
     "output_type": "stream",
     "text": [
      "Unique tokens in TEXT vocabulary: 23566\n"
     ]
    }
   ],
   "source": [
    "print(f\"Unique tokens in TEXT vocabulary: {len(TEXT.vocab)}\")"
   ]
  },
  {
   "cell_type": "code",
   "execution_count": 10,
   "metadata": {},
   "outputs": [
    {
     "name": "stdout",
     "output_type": "stream",
     "text": [
      "[('a', 1438991), ('.', 962558), ('the', 534692), ('in', 407296), ('is', 373543), ('man', 266236), ('on', 235904), ('and', 206363), ('are', 199114), ('of', 192428), ('with', 169236), ('woman', 137630), ('two', 122259), ('people', 121154), (',', 114331), ('to', 113972), ('at', 98656), ('wearing', 81024), ('an', 80212), ('his', 72467)]\n"
     ]
    }
   ],
   "source": [
    "print(TEXT.vocab.freqs.most_common(20))"
   ]
  },
  {
   "cell_type": "code",
   "execution_count": 11,
   "metadata": {},
   "outputs": [
    {
     "name": "stdout",
     "output_type": "stream",
     "text": [
      "['<unk>', '<pad>', 'a', '.', 'the', 'in', 'is', 'man', 'on', 'and']\n"
     ]
    }
   ],
   "source": [
    "print(TEXT.vocab.itos[:10])"
   ]
  },
  {
   "cell_type": "code",
   "execution_count": 12,
   "metadata": {},
   "outputs": [
    {
     "name": "stdout",
     "output_type": "stream",
     "text": [
      "['entailment', 'contradiction', 'neutral']\n"
     ]
    }
   ],
   "source": [
    "print(LABEL.vocab.itos)"
   ]
  },
  {
   "cell_type": "code",
   "execution_count": 13,
   "metadata": {},
   "outputs": [
    {
     "name": "stdout",
     "output_type": "stream",
     "text": [
      "[('entailment', 183416), ('contradiction', 183187), ('neutral', 182764)]\n"
     ]
    }
   ],
   "source": [
    "print(LABEL.vocab.freqs.most_common())"
   ]
  },
  {
   "cell_type": "code",
   "execution_count": 14,
   "metadata": {},
   "outputs": [],
   "source": [
    "BATCH_SIZE = 128\n",
    "\n",
    "device = torch.device('cuda:0' if torch.cuda.is_available() else 'cpu')\n",
    "\n",
    "train_iterator, valid_iterator, test_iterator = data.BucketIterator.splits(\n",
    "    (train_data, valid_data, test_data), \n",
    "    batch_size = BATCH_SIZE,\n",
    "    device = device)"
   ]
  },
  {
   "cell_type": "code",
   "execution_count": 15,
   "metadata": {},
   "outputs": [],
   "source": [
    "class NLIBiLSTM(nn.Module):\n",
    "    def __init__(self, \n",
    "                 input_dim, \n",
    "                 embedding_dim,\n",
    "                 hidden_dim,\n",
    "                 n_lstm_layers,\n",
    "                 n_fc_layers,\n",
    "                 output_dim, \n",
    "                 dropout, \n",
    "                 pad_idx):\n",
    "        \n",
    "        super().__init__()\n",
    "                                \n",
    "        self.embedding = nn.Embedding(input_dim, embedding_dim, padding_idx = pad_idx)\n",
    "        \n",
    "        self.translation = nn.Linear(embedding_dim, hidden_dim)\n",
    "        \n",
    "        self.lstm = nn.LSTM(hidden_dim, \n",
    "                            hidden_dim, \n",
    "                            num_layers = n_lstm_layers, \n",
    "                            bidirectional = True, \n",
    "                            dropout=dropout if n_lstm_layers > 1 else 0)\n",
    "        \n",
    "        fc_dim = hidden_dim * 2\n",
    "        \n",
    "        fcs = [nn.Linear(fc_dim * 2, fc_dim * 2) for _ in range(n_fc_layers)]\n",
    "        \n",
    "        self.fcs = nn.ModuleList(fcs)\n",
    "        \n",
    "        self.fc_out = nn.Linear(fc_dim * 2, output_dim)\n",
    "        \n",
    "        self.dropout = nn.Dropout(dropout)\n",
    "        \n",
    "    def forward(self, prem, hypo):\n",
    "\n",
    "        prem_seq_len, batch_size = prem.shape\n",
    "        hypo_seq_len, _ = hypo.shape\n",
    "        \n",
    "        #prem = [prem sent len, batch size]\n",
    "        #hypo = [hypo sent len, batch size]\n",
    "        \n",
    "        embedded_prem = self.embedding(prem)\n",
    "        embedded_hypo = self.embedding(hypo)\n",
    "        \n",
    "        #embedded_prem = [prem sent len, batch size, embedding dim]\n",
    "        #embedded_hypo = [hypo sent len, batch size, embedding dim]\n",
    "        \n",
    "        translated_prem = F.relu(self.translation(embedded_prem))\n",
    "        translated_hypo = F.relu(self.translation(embedded_hypo))\n",
    "        \n",
    "        #translated_prem = [prem sent len, batch size, hidden dim]\n",
    "        #translated_hypo = [hypo sent len, batch size, hidden dim]\n",
    "        \n",
    "        outputs_prem, (hidden_prem, cell_prem) = self.lstm(translated_prem)\n",
    "        outputs_hypo, (hidden_hypo, cell_hypo) = self.lstm(translated_hypo)\n",
    "\n",
    "        #outputs_x = [sent len, batch size, n directions * hid dim]\n",
    "        #hidden_x = [n layers * n directions, batch size, hid dim]\n",
    "        #cell_x = [n layers * n directions, batch size, hid dim]\n",
    "        \n",
    "        hidden_prem = torch.cat((hidden_prem[-1], hidden_prem[-2]), dim=-1)\n",
    "        hidden_hypo = torch.cat((hidden_hypo[-1], hidden_hypo[-2]), dim=-1)\n",
    "        \n",
    "        #hidden_x = [batch size, fc dim]\n",
    "\n",
    "        hidden = torch.cat((hidden_prem, hidden_hypo), dim=1)\n",
    "\n",
    "        #hidden = [batch size, fc dim * 2]\n",
    "            \n",
    "        for fc in self.fcs:\n",
    "            hidden = fc(hidden)\n",
    "            hidden = F.relu(hidden)\n",
    "            hidden = self.dropout(hidden)\n",
    "        \n",
    "        prediction = self.fc_out(hidden)\n",
    "        \n",
    "        #prediction = [batch size, output dim]\n",
    "        \n",
    "        return prediction"
   ]
  },
  {
   "cell_type": "code",
   "execution_count": 16,
   "metadata": {},
   "outputs": [],
   "source": [
    "INPUT_DIM = len(TEXT.vocab)\n",
    "EMBEDDING_DIM = 300\n",
    "HIDDEN_DIM = 300\n",
    "N_LSTM_LAYERS = 2\n",
    "N_FC_LAYERS = 3\n",
    "OUTPUT_DIM = len(LABEL.vocab)\n",
    "DROPOUT = 0.25\n",
    "PAD_IDX = TEXT.vocab.stoi[TEXT.pad_token]\n",
    "\n",
    "model = NLIBiLSTM(INPUT_DIM,\n",
    "                  EMBEDDING_DIM,\n",
    "                  HIDDEN_DIM,\n",
    "                  N_LSTM_LAYERS,\n",
    "                  N_FC_LAYERS,\n",
    "                  OUTPUT_DIM,\n",
    "                  DROPOUT,\n",
    "                  PAD_IDX).to(device)"
   ]
  },
  {
   "cell_type": "code",
   "execution_count": 17,
   "metadata": {},
   "outputs": [
    {
     "name": "stdout",
     "output_type": "stream",
     "text": [
      "The model has 15,096,903 trainable parameters\n"
     ]
    }
   ],
   "source": [
    "def count_parameters(model):\n",
    "    return sum(p.numel() for p in model.parameters() if p.requires_grad)\n",
    "\n",
    "print(f'The model has {count_parameters(model):,} trainable parameters')"
   ]
  },
  {
   "cell_type": "code",
   "execution_count": 18,
   "metadata": {},
   "outputs": [
    {
     "name": "stdout",
     "output_type": "stream",
     "text": [
      "torch.Size([23566, 300])\n"
     ]
    }
   ],
   "source": [
    "pretrained_embeddings = TEXT.vocab.vectors\n",
    "\n",
    "print(pretrained_embeddings.shape)"
   ]
  },
  {
   "cell_type": "code",
   "execution_count": 19,
   "metadata": {},
   "outputs": [
    {
     "data": {
      "text/plain": "tensor([[-0.1117, -0.4966,  0.1631,  ..., -1.4447,  0.8402, -0.8668],\n        [ 0.1032, -1.6268,  0.5729,  ...,  0.3180, -0.1626, -0.0417],\n        [-0.2971,  0.0940, -0.0967,  ...,  0.0597, -0.2285,  0.2960],\n        ...,\n        [-0.2149,  0.0846, -0.2949,  ...,  0.2379,  0.4804, -0.3348],\n        [-0.2983, -0.2664, -0.0631,  ..., -0.1577,  1.0438, -0.6433],\n        [ 0.3580, -0.0304,  0.3355,  ...,  0.0703, -0.5158,  0.1819]],\n       device='cuda:0')"
     },
     "execution_count": 19,
     "metadata": {},
     "output_type": "execute_result"
    }
   ],
   "source": [
    "model.embedding.weight.data.copy_(pretrained_embeddings)"
   ]
  },
  {
   "cell_type": "code",
   "execution_count": 20,
   "metadata": {},
   "outputs": [
    {
     "name": "stdout",
     "output_type": "stream",
     "text": [
      "tensor([[-0.1117, -0.4966,  0.1631,  ..., -1.4447,  0.8402, -0.8668],\n",
      "        [ 0.0000,  0.0000,  0.0000,  ...,  0.0000,  0.0000,  0.0000],\n",
      "        [-0.2971,  0.0940, -0.0967,  ...,  0.0597, -0.2285,  0.2960],\n",
      "        ...,\n",
      "        [-0.2149,  0.0846, -0.2949,  ...,  0.2379,  0.4804, -0.3348],\n",
      "        [-0.2983, -0.2664, -0.0631,  ..., -0.1577,  1.0438, -0.6433],\n",
      "        [ 0.3580, -0.0304,  0.3355,  ...,  0.0703, -0.5158,  0.1819]],\n",
      "       device='cuda:0')\n"
     ]
    }
   ],
   "source": [
    "model.embedding.weight.data[PAD_IDX] = torch.zeros(EMBEDDING_DIM)\n",
    "\n",
    "print(model.embedding.weight.data)"
   ]
  },
  {
   "cell_type": "code",
   "execution_count": 21,
   "metadata": {},
   "outputs": [],
   "source": [
    "model.embedding.weight.requires_grad = False"
   ]
  },
  {
   "cell_type": "code",
   "execution_count": 22,
   "metadata": {},
   "outputs": [
    {
     "name": "stdout",
     "output_type": "stream",
     "text": [
      "The model has 8,027,103 trainable parameters\n"
     ]
    }
   ],
   "source": [
    "def count_parameters(model):\n",
    "    return sum(p.numel() for p in model.parameters() if p.requires_grad)\n",
    "\n",
    "print(f'The model has {count_parameters(model):,} trainable parameters')"
   ]
  },
  {
   "cell_type": "code",
   "execution_count": 23,
   "metadata": {},
   "outputs": [],
   "source": [
    "optimizer = optim.Adam(model.parameters())"
   ]
  },
  {
   "cell_type": "code",
   "execution_count": 24,
   "metadata": {},
   "outputs": [],
   "source": [
    "criterion = nn.CrossEntropyLoss().to(device)"
   ]
  },
  {
   "cell_type": "code",
   "execution_count": 25,
   "metadata": {},
   "outputs": [],
   "source": [
    "def categorical_accuracy(preds, y):\n",
    "    \"\"\"\n",
    "    Returns accuracy per batch, i.e. if you get 8/10 right, this returns 0.8, NOT 8\n",
    "    \"\"\"\n",
    "    max_preds = preds.argmax(dim = 1, keepdim = True) # get the index of the max probability\n",
    "    correct = max_preds.squeeze(1).eq(y)\n",
    "    returntemp = correct.sum().to(device)\n",
    "    returntemp2 = torch.FloatTensor([y.shape[0]]).to(device)\n",
    "    returntemp = returntemp / returntemp2\n",
    "    return returntemp"
   ]
  },
  {
   "cell_type": "code",
   "execution_count": 26,
   "metadata": {},
   "outputs": [],
   "source": [
    "def train(model, iterator, optimizer, criterion):\n",
    "\n",
    "    print('Training started')\n",
    "\n",
    "    epoch_loss = 0\n",
    "    epoch_acc = 0\n",
    "    \n",
    "    model.train()\n",
    "    \n",
    "    for batch in iterator:\n",
    "        \n",
    "        prem = batch.premise\n",
    "        hypo = batch.hypothesis\n",
    "        labels = batch.label\n",
    "        \n",
    "        optimizer.zero_grad()\n",
    "        \n",
    "        #prem = [prem sent len, batch size]\n",
    "        #hypo = [hypo sent len, batch size]\n",
    "        \n",
    "        predictions = model(prem, hypo)\n",
    "        \n",
    "        #predictions = [batch size, output dim]\n",
    "        #labels = [batch size]\n",
    "        \n",
    "        loss = criterion(predictions, labels)\n",
    "                \n",
    "        acc = categorical_accuracy(predictions, labels)\n",
    "        \n",
    "        loss.backward()\n",
    "        \n",
    "        optimizer.step()\n",
    "        \n",
    "        epoch_loss += loss.item()\n",
    "        epoch_acc += acc.item()\n",
    "\n",
    "    print('end of epoch', epoch)\n",
    "\n",
    "    return epoch_loss / len(iterator), epoch_acc / len(iterator)"
   ]
  },
  {
   "cell_type": "code",
   "execution_count": 27,
   "metadata": {},
   "outputs": [],
   "source": [
    "def evaluate(model, iterator, criterion):\n",
    "    \n",
    "    epoch_loss = 0\n",
    "    epoch_acc = 0\n",
    "    \n",
    "    model.eval()\n",
    "    \n",
    "    with torch.no_grad():\n",
    "    \n",
    "        for batch in iterator:\n",
    "\n",
    "            prem = batch.premise\n",
    "            hypo = batch.hypothesis\n",
    "            labels = batch.label\n",
    "                        \n",
    "            predictions = model(prem, hypo)\n",
    "            \n",
    "            loss = criterion(predictions, labels)\n",
    "                \n",
    "            acc = categorical_accuracy(predictions, labels)\n",
    "            \n",
    "            epoch_loss += loss.item()\n",
    "            epoch_acc += acc.item()\n",
    "        \n",
    "    return epoch_loss / len(iterator), epoch_acc / len(iterator)"
   ]
  },
  {
   "cell_type": "code",
   "execution_count": 28,
   "metadata": {},
   "outputs": [],
   "source": [
    "def epoch_time(start_time, end_time):\n",
    "    elapsed_time = end_time - start_time\n",
    "    elapsed_mins = int(elapsed_time / 60)\n",
    "    elapsed_secs = int(elapsed_time - (elapsed_mins * 60))\n",
    "    return elapsed_mins, elapsed_secs"
   ]
  },
  {
   "cell_type": "code",
   "execution_count": null,
   "metadata": {
    "pycharm": {
     "is_executing": true
    }
   },
   "outputs": [
    {
     "name": "stdout",
     "output_type": "stream",
     "text": [
      "Training start at time: 1621779284.3784735\n",
      "Training started\n",
      "end of epoch 0\n",
      "Epoch: 01 | Epoch Time: 18m 6s\n",
      "\tTrain Loss: 0.747 | Train Acc: 67.45%\n",
      "\t Val. Loss: 0.638 |  Val. Acc: 74.07%\n",
      "Training start at time: 1621780370.8306353\n",
      "Training started\n",
      "end of epoch 1\n",
      "Epoch: 02 | Epoch Time: 17m 21s\n",
      "\tTrain Loss: 0.610 | Train Acc: 75.06%\n",
      "\t Val. Loss: 0.577 |  Val. Acc: 76.85%\n",
      "Training start at time: 1621781412.44649\n",
      "Training started\n",
      "end of epoch 2\n",
      "Epoch: 03 | Epoch Time: 18m 31s\n",
      "\tTrain Loss: 0.557 | Train Acc: 77.70%\n",
      "\t Val. Loss: 0.542 |  Val. Acc: 78.13%\n",
      "Training start at time: 1621782524.4155915\n",
      "Training started\n"
     ]
    }
   ],
   "source": [
    "N_EPOCHS = 10\n",
    "\n",
    "best_valid_loss = float('inf')\n",
    "\n",
    "for epoch in range(N_EPOCHS):\n",
    "\n",
    "    torch.cuda.empty_cache()\n",
    "    start_time = time.time()\n",
    "    print('Training start at time:', start_time)\n",
    "    \n",
    "    train_loss, train_acc = train(model, train_iterator, optimizer, criterion)\n",
    "    valid_loss, valid_acc = evaluate(model, valid_iterator, criterion)\n",
    "    \n",
    "    end_time = time.time()\n",
    "\n",
    "    epoch_mins, epoch_secs = epoch_time(start_time, end_time)\n",
    "    \n",
    "    if valid_loss < best_valid_loss:\n",
    "        best_valid_loss = valid_loss\n",
    "        torch.save(model.state_dict(), 'tut1-model.pt')\n",
    "    \n",
    "    print(f'Epoch: {epoch+1:02} | Epoch Time: {epoch_mins}m {epoch_secs}s')\n",
    "    print(f'\\tTrain Loss: {train_loss:.3f} | Train Acc: {train_acc*100:.2f}%')\n",
    "    print(f'\\t Val. Loss: {valid_loss:.3f} |  Val. Acc: {valid_acc*100:.2f}%')"
   ]
  },
  {
   "cell_type": "code",
   "execution_count": null,
   "metadata": {
    "pycharm": {
     "is_executing": true
    }
   },
   "outputs": [],
   "source": [
    "model.load_state_dict(torch.load('tut1-model.pt'))\n",
    "\n",
    "test_loss, test_acc = evaluate(model, test_iterator, criterion)\n",
    "\n",
    "print(f'Test Loss: {test_loss:.3f} |  Test Acc: {test_acc*100:.2f}%')"
   ]
  },
  {
   "cell_type": "code",
   "execution_count": null,
   "metadata": {
    "pycharm": {
     "is_executing": true
    }
   },
   "outputs": [],
   "source": [
    "def predict_inference(premise, hypothesis, text_field, label_field, model, device):\n",
    "    \n",
    "    model.eval()\n",
    "    \n",
    "    if isinstance(premise, str):\n",
    "        premise = text_field.tokenize(premise)\n",
    "    \n",
    "    if isinstance(hypothesis, str):\n",
    "        hypothesis = text_field.tokenize(hypothesis)\n",
    "    \n",
    "    if text_field.lower:\n",
    "        premise = [t.lower() for t in premise]\n",
    "        hypothesis = [t.lower() for t in hypothesis]\n",
    "        \n",
    "    premise = [text_field.vocab.stoi[t] for t in premise]\n",
    "    hypothesis = [text_field.vocab.stoi[t] for t in hypothesis]\n",
    "    \n",
    "    premise = torch.LongTensor(premise).unsqueeze(1).to(device)\n",
    "    hypothesis = torch.LongTensor(hypothesis).unsqueeze(1).to(device)\n",
    "    \n",
    "    prediction = model(premise, hypothesis)\n",
    "    \n",
    "    prediction = prediction.argmax(dim=-1).item()\n",
    "    \n",
    "    return label_field.vocab.itos[prediction]"
   ]
  },
  {
   "cell_type": "code",
   "execution_count": null,
   "metadata": {
    "pycharm": {
     "is_executing": true
    }
   },
   "outputs": [],
   "source": [
    "premise = 'a man sitting on a green bench.'\n",
    "hypothesis = 'a woman sitting on a green bench.'\n",
    "\n",
    "predict_inference(premise, hypothesis, TEXT, LABEL, model, device)"
   ]
  },
  {
   "cell_type": "code",
   "execution_count": null,
   "metadata": {
    "pycharm": {
     "is_executing": true
    }
   },
   "outputs": [],
   "source": [
    "premise = 'a man sitting on a green bench.'\n",
    "hypothesis = 'a man sitting on a blue bench.'\n",
    "\n",
    "predict_inference(premise, hypothesis, TEXT, LABEL, model, device)"
   ]
  },
  {
   "cell_type": "code",
   "execution_count": null,
   "metadata": {
    "pycharm": {
     "is_executing": true
    }
   },
   "outputs": [],
   "source": [
    "premise = 'a man sitting on a green bench.'\n",
    "hypothesis = 'a male sat on a lime bench.'\n",
    "\n",
    "predict_inference(premise, hypothesis, TEXT, LABEL, model, device)"
   ]
  },
  {
   "cell_type": "code",
   "execution_count": null,
   "metadata": {
    "pycharm": {
     "is_executing": true
    }
   },
   "outputs": [],
   "source": [
    "premise = 'a man sitting on a green bench.'\n",
    "hypothesis = 'a person on a park bench'\n",
    "\n",
    "predict_inference(premise, hypothesis, TEXT, LABEL, model, device)"
   ]
  }
 ],
 "metadata": {
  "kernelspec": {
   "display_name": "Python 3",
   "language": "python",
   "name": "python3"
  },
  "language_info": {
   "codemirror_mode": {
    "name": "ipython",
    "version": 3
   },
   "file_extension": ".py",
   "mimetype": "text/x-python",
   "name": "python",
   "nbconvert_exporter": "python",
   "pygments_lexer": "ipython3",
   "version": "3.7.6"
  }
 },
 "nbformat": 4,
 "nbformat_minor": 2
}